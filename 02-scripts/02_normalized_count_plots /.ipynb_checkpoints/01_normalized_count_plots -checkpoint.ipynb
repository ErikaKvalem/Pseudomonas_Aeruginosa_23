{
 "cells": [
  {
   "cell_type": "markdown",
   "id": "ca61bda9-a877-41c7-98d9-e9f1e3806f70",
   "metadata": {},
   "source": [
    "### Show normalized count plots of genes. \n",
    "- Lipocalin-2 (LCN2, NGAL)\n",
    "- Ferroportin (FPN1, SLC40A1)\n",
    "- Transferrin receptor 1 (TFR1)\n",
    "- Ferritin (FT-H and FT-L)\n",
    "- DMT-1 (SLC11A2)\n",
    "- Inducible nitric oxide synthase (iNOS, Nos2)\n",
    "- NADPH oxidases (NOX1-5 and DUOX1-2)\n",
    "- Hepcidin (HAMP)\n",
    "- IL-1b\n",
    "- IL-6\n",
    "- IL-8 (CXCL8)\n",
    "- IL-10\n"
   ]
  },
  {
   "cell_type": "code",
   "execution_count": 1,
   "id": "0416453d-acbb-4acb-a68f-806a03c90d7b",
   "metadata": {},
   "outputs": [],
   "source": [
    "#Libraries\n",
    "import numpy as np\n",
    "import pandas as pd\n",
    "from nxfvars import nxfvars\n",
    "import seaborn as sns\n",
    "import matplotlib.pyplot as plt\n",
    "from statannotations.Annotator import Annotator"
   ]
  },
  {
   "cell_type": "code",
   "execution_count": 2,
   "id": "de6689b2-cc81-463e-86dd-542430d3a6bf",
   "metadata": {},
   "outputs": [],
   "source": [
    "database_dir = nxfvars.get(\n",
    "    \"database_dir\", \"/data/projects/2023/Pseudomonas_aeruginosa/deseq2icbi\"\n",
    ")\n",
    "data_dir = (\n",
    "    f\"{database_dir}/01_deseq2/hAO_inf_vs_hAO_ctrl\"\n",
    ")\n",
    "sig_genes_file = (\n",
    "    f\"{data_dir}/hAO_inf_hAO_ctrl_IHWsigGenes.tsv\"\n",
    ")\n",
    "all_genes_file = (\n",
    "    f\"{data_dir}/hAO_inf_hAO_ctrl_IHWallGenes.tsv\"\n",
    ")\n",
    "tpm_file  = (\n",
    "    f\"{database_dir}/tmp_rnaseq_pipeline/rnaseq_out/salmon.merged.gene_tpm.tsv\"\n",
    ")\n",
    "\n",
    "counts_file  = (\n",
    "    f\"{database_dir}/tmp_rnaseq_pipeline/rnaseq_out/salmon.merged.gene_counts.tsv\"\n",
    ")\n",
    "\n",
    "log2_cpm_plus_one_file  = (\n",
    "    f\"{database_dir}/tmp_rnaseq_pipeline/rnaseq_out/log2_cpm_counts_plus_one.tsv\"\n",
    ")"
   ]
  },
  {
   "cell_type": "code",
   "execution_count": 3,
   "id": "a4306f52-1517-4651-9a2f-7c454f425e45",
   "metadata": {},
   "outputs": [],
   "source": [
    "sig_genes = pd.read_csv(sig_genes_file , sep = \"\\t\")\n",
    "all_genes = pd.read_csv(all_genes_file , sep = \"\\t\")\n",
    "tpm = pd.read_csv(tpm_file, sep = \"\\t\")\n",
    "counts = pd.read_csv(counts_file, sep = \"\\t\")\n",
    "log2_cpm = pd.read_csv(log2_cpm_plus_one_file, sep = \",\")\n",
    "log2_cpm = log2_cpm.iloc[:,1:]"
   ]
  },
  {
   "cell_type": "code",
   "execution_count": 4,
   "id": "f8524bf6-dfcc-4307-997e-fa727d4627be",
   "metadata": {},
   "outputs": [],
   "source": [
    "# Define the string to exclude columns\n",
    "exclude_string = \"COPD_\"\n",
    "\n",
    "# Subset the DataFrame excluding columns containing the specific string\n",
    "subset_counts = counts.filter(regex=f'^(?!.*{exclude_string}).*$')\n",
    "\n",
    "# Subset the DataFrame excluding columns containing the specific string\n",
    "subset_tpm = tpm.filter(regex=f'^(?!.*{exclude_string}).*$')\n",
    "\n",
    "# Subset the DataFrame excluding columns containing the specific string\n",
    "subset_log2_cpm = log2_cpm.filter(regex=f'^(?!.*{exclude_string}).*$')"
   ]
  },
  {
   "cell_type": "code",
   "execution_count": 5,
   "id": "8813feab-04df-4789-898d-31dc6eadbacb",
   "metadata": {},
   "outputs": [],
   "source": [
    "list_of_genes = [\"LCN2\",\"NGAL\",\"FPN1\",\"SLC40A1\",\"TFR1\",\"FT-H\",\"FT-L\",\"SLC11A2\",\"iNOS\",\"Nos2\",\"NOX1-5\",\"DUOX1\",\"DUOX2\"\"HAMP\",\"IL-1b\",\"IL-6\",\"IL-8\",\"CXCL8\",\"IL-10\"]"
   ]
  },
  {
   "cell_type": "code",
   "execution_count": 6,
   "id": "457c081c-8ec0-4e50-a4b9-3d6164873813",
   "metadata": {},
   "outputs": [],
   "source": [
    "list_of_genes_mod = [\"LCN2\",\"SLC40A1\",\"SLC11A2\",\"DUOX1\",\"DUOX2\",\"HAMP\",\"CXCL8\"]"
   ]
  },
  {
   "cell_type": "code",
   "execution_count": 7,
   "id": "3bf96dd7-4dd7-4da5-bf4e-271a201e9d28",
   "metadata": {},
   "outputs": [],
   "source": [
    "list_of_genes_not_found = [\"LCN2\", \"NGAL\",\"FPN1\",\"TFR1\",\"FT-H\",\"FT-L\",\"iNOS\",\"NOX1\",\"NOX5\",\"HAMP\"]\n",
    "\n",
    "list_of_genes_SLC = [\"SLC2A6\",\"SLC25A37\",\"SLCO4A1\",\"SLC16A9\",\"SLC7A5\",\"SLC16A1\",\"SLC35F3\",\"SLC5A8\",\"SLC25A25-AS1\",\"SLC6A14\",\"SLCO3A1\",\"SLC45A3\",\"SLC43A2\",\"SLC25A22\",\"SLC11A2\",\"SLC7A11\",\"SLC8B1\",\"SLC30A7\",\"SLC43A3\",\"SLC35E1\",\"SLC38A2\"]\n",
    "list_of_genes_ferritin = [\"FTH1\"]\n",
    "list_of_genes_nitric = [\"NOS2\"]\n",
    "list_of_genes_oxidases = [\"DUOXA2\",\"DUOX2\"]\n",
    "list_of_genes_NADH = [\"NDUFAF6\",\"NDUFV2\"]\n",
    "list_of_genes_interleukin = [\"IL17C\",\"IL19\",\"IL4I1\",\"IL32\",\"IRAK3\",\"IL1RN\",\"IL4R\",\"IL36G\",\"IRAK2\",\"IL20RA\",\"IRAK1BP1\"]\n",
    "list_of_genes_chemokine = [\"CXCL8\",\"CXCL6\",\"CXCL3\",\"CXCL5\"]\n"
   ]
  },
  {
   "cell_type": "code",
   "execution_count": 91,
   "id": "cca4b9f3-cdf4-493a-899d-1b2be065af7c",
   "metadata": {},
   "outputs": [],
   "source": [
    "list_of_genes = [\"CXCL8\",\"CXCL6\",\"CXCL3\",\"CXCL5\"]"
   ]
  },
  {
   "cell_type": "code",
   "execution_count": 92,
   "id": "a99ae6a0-1ece-4b7a-82fd-403355ba2116",
   "metadata": {},
   "outputs": [],
   "source": [
    "subset_df = subset_log2_cpm[subset_log2_cpm['gene_name'].isin(list_of_genes)]"
   ]
  },
  {
   "cell_type": "code",
   "execution_count": 93,
   "id": "22c246af-da90-4ea3-8049-d6663a741f60",
   "metadata": {},
   "outputs": [
    {
     "name": "stderr",
     "output_type": "stream",
     "text": [
      "/tmp/ipykernel_59064/551501624.py:12: SettingWithCopyWarning: \n",
      "A value is trying to be set on a copy of a slice from a DataFrame\n",
      "\n",
      "See the caveats in the documentation: https://pandas.pydata.org/pandas-docs/stable/user_guide/indexing.html#returning-a-view-versus-a-copy\n",
      "  subset_transposed[\"sample\"][i]= subset_transposed[\"sample_conditions\"][i][1]\n",
      "/tmp/ipykernel_59064/551501624.py:13: SettingWithCopyWarning: \n",
      "A value is trying to be set on a copy of a slice from a DataFrame\n",
      "\n",
      "See the caveats in the documentation: https://pandas.pydata.org/pandas-docs/stable/user_guide/indexing.html#returning-a-view-versus-a-copy\n",
      "  subset_transposed[\"condition\"][i]= subset_transposed[\"sample_conditions\"][i][2]\n"
     ]
    }
   ],
   "source": [
    "subset_transposed = subset_df.T\n",
    "new_header = subset_transposed.iloc[1] #grab the first row for the header\n",
    "#subset_transposed = subset_transposed [1:] #take the data less the header row\n",
    "subset_transposed .columns = new_header #set the header row as the df header\n",
    "subset_transposed = subset_transposed.iloc[2:,:]\n",
    "\n",
    "\n",
    "subset_transposed[\"sample_conditions\"]= subset_transposed.index.str.split(\"_\", n = 2, expand = False)\n",
    "subset_transposed[\"sample\"] = 0 \n",
    "subset_transposed[\"condition\"] = 0 \n",
    "for i in range(len(subset_transposed)):\n",
    "    subset_transposed[\"sample\"][i]= subset_transposed[\"sample_conditions\"][i][1]\n",
    "    subset_transposed[\"condition\"][i]= subset_transposed[\"sample_conditions\"][i][2]\n",
    "    \n",
    "subset_transposed = subset_transposed.drop(\"sample_conditions\", axis = 1)\n",
    "subset_transposed = subset_transposed.rename_axis(None, axis=1)\n",
    "subset_transposed = subset_transposed.reset_index(drop = True)"
   ]
  },
  {
   "cell_type": "code",
   "execution_count": 94,
   "id": "ba7d2100-aba1-4692-bf53-a2b8b66c6b08",
   "metadata": {},
   "outputs": [
    {
     "data": {
      "text/html": [
       "<div>\n",
       "<style scoped>\n",
       "    .dataframe tbody tr th:only-of-type {\n",
       "        vertical-align: middle;\n",
       "    }\n",
       "\n",
       "    .dataframe tbody tr th {\n",
       "        vertical-align: top;\n",
       "    }\n",
       "\n",
       "    .dataframe thead th {\n",
       "        text-align: right;\n",
       "    }\n",
       "</style>\n",
       "<table border=\"1\" class=\"dataframe\">\n",
       "  <thead>\n",
       "    <tr style=\"text-align: right;\">\n",
       "      <th></th>\n",
       "      <th>CXCL6</th>\n",
       "      <th>CXCL3</th>\n",
       "      <th>CXCL5</th>\n",
       "      <th>CXCL8</th>\n",
       "      <th>sample</th>\n",
       "      <th>condition</th>\n",
       "    </tr>\n",
       "  </thead>\n",
       "  <tbody>\n",
       "    <tr>\n",
       "      <th>0</th>\n",
       "      <td>5.039427</td>\n",
       "      <td>3.910903</td>\n",
       "      <td>5.4588</td>\n",
       "      <td>5.432043</td>\n",
       "      <td>r1</td>\n",
       "      <td>ctrl</td>\n",
       "    </tr>\n",
       "    <tr>\n",
       "      <th>1</th>\n",
       "      <td>6.217762</td>\n",
       "      <td>5.081645</td>\n",
       "      <td>6.207838</td>\n",
       "      <td>6.647828</td>\n",
       "      <td>r1</td>\n",
       "      <td>inf</td>\n",
       "    </tr>\n",
       "    <tr>\n",
       "      <th>2</th>\n",
       "      <td>4.149615</td>\n",
       "      <td>4.206387</td>\n",
       "      <td>4.800839</td>\n",
       "      <td>4.774227</td>\n",
       "      <td>r2</td>\n",
       "      <td>ctrl</td>\n",
       "    </tr>\n",
       "    <tr>\n",
       "      <th>3</th>\n",
       "      <td>5.10184</td>\n",
       "      <td>4.521061</td>\n",
       "      <td>5.259551</td>\n",
       "      <td>5.754317</td>\n",
       "      <td>r2</td>\n",
       "      <td>inf</td>\n",
       "    </tr>\n",
       "    <tr>\n",
       "      <th>4</th>\n",
       "      <td>3.984659</td>\n",
       "      <td>4.151931</td>\n",
       "      <td>4.428605</td>\n",
       "      <td>4.735256</td>\n",
       "      <td>r3</td>\n",
       "      <td>ctrl</td>\n",
       "    </tr>\n",
       "    <tr>\n",
       "      <th>5</th>\n",
       "      <td>5.069095</td>\n",
       "      <td>4.550081</td>\n",
       "      <td>5.428332</td>\n",
       "      <td>5.718266</td>\n",
       "      <td>r3</td>\n",
       "      <td>inf</td>\n",
       "    </tr>\n",
       "    <tr>\n",
       "      <th>6</th>\n",
       "      <td>3.830052</td>\n",
       "      <td>4.07081</td>\n",
       "      <td>4.599682</td>\n",
       "      <td>4.674549</td>\n",
       "      <td>r4</td>\n",
       "      <td>ctrl</td>\n",
       "    </tr>\n",
       "    <tr>\n",
       "      <th>7</th>\n",
       "      <td>4.919942</td>\n",
       "      <td>4.517681</td>\n",
       "      <td>5.253659</td>\n",
       "      <td>5.413618</td>\n",
       "      <td>r4</td>\n",
       "      <td>inf</td>\n",
       "    </tr>\n",
       "  </tbody>\n",
       "</table>\n",
       "</div>"
      ],
      "text/plain": [
       "      CXCL6     CXCL3     CXCL5     CXCL8 sample condition\n",
       "0  5.039427  3.910903    5.4588  5.432043     r1      ctrl\n",
       "1  6.217762  5.081645  6.207838  6.647828     r1       inf\n",
       "2  4.149615  4.206387  4.800839  4.774227     r2      ctrl\n",
       "3   5.10184  4.521061  5.259551  5.754317     r2       inf\n",
       "4  3.984659  4.151931  4.428605  4.735256     r3      ctrl\n",
       "5  5.069095  4.550081  5.428332  5.718266     r3       inf\n",
       "6  3.830052   4.07081  4.599682  4.674549     r4      ctrl\n",
       "7  4.919942  4.517681  5.253659  5.413618     r4       inf"
      ]
     },
     "execution_count": 94,
     "metadata": {},
     "output_type": "execute_result"
    }
   ],
   "source": [
    "subset_transposed"
   ]
  },
  {
   "cell_type": "markdown",
   "id": "fdb218e3-c794-48f7-a4d6-130fe6e2e605",
   "metadata": {},
   "source": [
    "### NEED to convert object to float \n",
    "Find more elegant solution instead using harcoded names"
   ]
  },
  {
   "cell_type": "code",
   "execution_count": 95,
   "id": "8a8cb7b2-84f1-4c7e-8832-67692503fb8b",
   "metadata": {},
   "outputs": [],
   "source": [
    "#Change data type for all numerical columns\n",
    "for i in range(len(subset_transposed.columns[:-2])):\n",
    "\n",
    "    subset_transposed[subset_transposed.columns[i]] = subset_transposed[subset_transposed.columns[i]].astype(float)\n",
    "    \n",
    "\n"
   ]
  },
  {
   "cell_type": "markdown",
   "id": "a8c782ff-50f3-45e4-9d84-faccc81e7cda",
   "metadata": {},
   "source": [
    "# PLOT"
   ]
  },
  {
   "cell_type": "code",
   "execution_count": 96,
   "id": "b9e61b90-328d-4195-9376-9e2de314ae9b",
   "metadata": {},
   "outputs": [
    {
     "name": "stderr",
     "output_type": "stream",
     "text": [
      "/home/kvalem/.conda/envs/2022-default-scanpy/lib/python3.10/site-packages/statannotations/_Plotter.py:337: UserWarning: Invalid x-position found. Are the same parameters passed to seaborn and statannotations calls? or are there few data points?\n",
      "  warnings.warn(\n",
      "/home/kvalem/.conda/envs/2022-default-scanpy/lib/python3.10/site-packages/statannotations/_Plotter.py:337: UserWarning: Invalid x-position found. Are the same parameters passed to seaborn and statannotations calls? or are there few data points?\n",
      "  warnings.warn(\n",
      "/home/kvalem/.conda/envs/2022-default-scanpy/lib/python3.10/site-packages/statannotations/_Plotter.py:337: UserWarning: Invalid x-position found. Are the same parameters passed to seaborn and statannotations calls? or are there few data points?\n",
      "  warnings.warn(\n",
      "/home/kvalem/.conda/envs/2022-default-scanpy/lib/python3.10/site-packages/statannotations/_Plotter.py:337: UserWarning: Invalid x-position found. Are the same parameters passed to seaborn and statannotations calls? or are there few data points?\n",
      "  warnings.warn(\n"
     ]
    },
    {
     "name": "stdout",
     "output_type": "stream",
     "text": [
      "p-value annotation legend:\n",
      "      ns: p <= 1.00e+00\n",
      "       *: 1.00e-02 < p <= 5.00e-02\n",
      "      **: 1.00e-03 < p <= 1.00e-02\n",
      "     ***: 1.00e-04 < p <= 1.00e-03\n",
      "    ****: p <= 1.00e-04\n",
      "\n",
      "ctrl vs. inf: Mann-Whitney-Wilcoxon test two-sided, P_val:5.714e-02 U_stat=1.000e+00\n",
      "0.0083\n",
      "p-value annotation legend:\n",
      "      ns: p <= 1.00e+00\n",
      "       *: 1.00e-02 < p <= 5.00e-02\n",
      "      **: 1.00e-03 < p <= 1.00e-02\n",
      "     ***: 1.00e-04 < p <= 1.00e-03\n",
      "    ****: p <= 1.00e-04\n",
      "\n",
      "ctrl vs. inf: Mann-Whitney-Wilcoxon test two-sided, P_val:2.857e-02 U_stat=0.000e+00\n"
     ]
    },
    {
     "name": "stderr",
     "output_type": "stream",
     "text": [
      "/home/kvalem/.conda/envs/2022-default-scanpy/lib/python3.10/site-packages/statannotations/_Plotter.py:337: UserWarning: Invalid x-position found. Are the same parameters passed to seaborn and statannotations calls? or are there few data points?\n",
      "  warnings.warn(\n",
      "/home/kvalem/.conda/envs/2022-default-scanpy/lib/python3.10/site-packages/statannotations/_Plotter.py:337: UserWarning: Invalid x-position found. Are the same parameters passed to seaborn and statannotations calls? or are there few data points?\n",
      "  warnings.warn(\n",
      "/home/kvalem/.conda/envs/2022-default-scanpy/lib/python3.10/site-packages/statannotations/_Plotter.py:337: UserWarning: Invalid x-position found. Are the same parameters passed to seaborn and statannotations calls? or are there few data points?\n",
      "  warnings.warn(\n",
      "/home/kvalem/.conda/envs/2022-default-scanpy/lib/python3.10/site-packages/statannotations/_Plotter.py:337: UserWarning: Invalid x-position found. Are the same parameters passed to seaborn and statannotations calls? or are there few data points?\n",
      "  warnings.warn(\n"
     ]
    },
    {
     "name": "stdout",
     "output_type": "stream",
     "text": [
      "0.0103\n",
      "p-value annotation legend:\n",
      "      ns: p <= 1.00e+00\n",
      "       *: 1.00e-02 < p <= 5.00e-02\n",
      "      **: 1.00e-03 < p <= 1.00e-02\n",
      "     ***: 1.00e-04 < p <= 1.00e-03\n",
      "    ****: p <= 1.00e-04\n",
      "\n",
      "ctrl vs. inf: Mann-Whitney-Wilcoxon test two-sided, P_val:2.000e-01 U_stat=3.000e+00\n"
     ]
    },
    {
     "name": "stderr",
     "output_type": "stream",
     "text": [
      "/home/kvalem/.conda/envs/2022-default-scanpy/lib/python3.10/site-packages/statannotations/_Plotter.py:337: UserWarning: Invalid x-position found. Are the same parameters passed to seaborn and statannotations calls? or are there few data points?\n",
      "  warnings.warn(\n",
      "/home/kvalem/.conda/envs/2022-default-scanpy/lib/python3.10/site-packages/statannotations/_Plotter.py:337: UserWarning: Invalid x-position found. Are the same parameters passed to seaborn and statannotations calls? or are there few data points?\n",
      "  warnings.warn(\n",
      "/home/kvalem/.conda/envs/2022-default-scanpy/lib/python3.10/site-packages/statannotations/_Plotter.py:337: UserWarning: Invalid x-position found. Are the same parameters passed to seaborn and statannotations calls? or are there few data points?\n",
      "  warnings.warn(\n",
      "/home/kvalem/.conda/envs/2022-default-scanpy/lib/python3.10/site-packages/statannotations/_Plotter.py:337: UserWarning: Invalid x-position found. Are the same parameters passed to seaborn and statannotations calls? or are there few data points?\n",
      "  warnings.warn(\n"
     ]
    },
    {
     "name": "stdout",
     "output_type": "stream",
     "text": [
      "0.0626\n",
      "p-value annotation legend:\n",
      "      ns: p <= 1.00e+00\n",
      "       *: 1.00e-02 < p <= 5.00e-02\n",
      "      **: 1.00e-03 < p <= 1.00e-02\n",
      "     ***: 1.00e-04 < p <= 1.00e-03\n",
      "    ****: p <= 1.00e-04\n",
      "\n",
      "ctrl vs. inf: Mann-Whitney-Wilcoxon test two-sided, P_val:5.714e-02 U_stat=1.000e+00\n"
     ]
    },
    {
     "name": "stderr",
     "output_type": "stream",
     "text": [
      "/home/kvalem/.conda/envs/2022-default-scanpy/lib/python3.10/site-packages/statannotations/_Plotter.py:337: UserWarning: Invalid x-position found. Are the same parameters passed to seaborn and statannotations calls? or are there few data points?\n",
      "  warnings.warn(\n",
      "/home/kvalem/.conda/envs/2022-default-scanpy/lib/python3.10/site-packages/statannotations/_Plotter.py:337: UserWarning: Invalid x-position found. Are the same parameters passed to seaborn and statannotations calls? or are there few data points?\n",
      "  warnings.warn(\n",
      "/home/kvalem/.conda/envs/2022-default-scanpy/lib/python3.10/site-packages/statannotations/_Plotter.py:337: UserWarning: Invalid x-position found. Are the same parameters passed to seaborn and statannotations calls? or are there few data points?\n",
      "  warnings.warn(\n",
      "/home/kvalem/.conda/envs/2022-default-scanpy/lib/python3.10/site-packages/statannotations/_Plotter.py:337: UserWarning: Invalid x-position found. Are the same parameters passed to seaborn and statannotations calls? or are there few data points?\n",
      "  warnings.warn(\n"
     ]
    },
    {
     "name": "stdout",
     "output_type": "stream",
     "text": [
      "0.0016\n"
     ]
    },
    {
     "data": {
      "image/png": "[encoded data removed]",
      "text/plain": [
       "<Figure size 1800x700 with 4 Axes>"
      ]
     },
     "metadata": {},
     "output_type": "display_data"
    }
   ],
   "source": [
    "# Define the number of rows and columns for the subplot grid\n",
    "\n",
    "\n",
    "num_rows = 1\n",
    "num_cols = 4\n",
    "\n",
    "\n",
    "# Create the subplot grid and axes\n",
    "fig, axes = plt.subplots(num_rows, num_cols, figsize=(18, 7),constrained_layout = True,squeeze=False)\n",
    "\n",
    "#fig.delaxes(axes[1][2])\n",
    "# Flatten the axes array to iterate through subplots\n",
    "axes = axes.flatten()\n",
    "\n",
    "for i, ax in enumerate(axes):\n",
    "    ax.set(ylim=(0, 14))\n",
    "    ax1 = sns.boxplot(x=\"condition\", y=subset_transposed.columns[i], data=subset_transposed, ax=ax)\n",
    "    sns.pointplot( x=\"condition\", y=subset_transposed.columns[i], data=subset_transposed,hue = \"sample\",dodge=True, scale = 1, ax=ax, label = False)\n",
    "\n",
    "    ax.set(xlabel=None)\n",
    "    ax.set(ylabel=None)\n",
    "    ax.tick_params(\n",
    "                axis=\"x\",\n",
    "                # rotation=0,\n",
    "                labelsize=15,\n",
    "            )\n",
    "    ax.legend().set_visible(False)\n",
    "    pairs=[(\"ctrl\", \"inf\")]\n",
    "\n",
    "    annotator = Annotator(ax1, pairs, data=subset_transposed, x=\"condition\", y=subset_transposed.columns[i])\n",
    "    annotator.configure(test='Mann-Whitney', loc='outside',  text_format=\"star\")\n",
    "    annotator.apply_and_annotate()\n",
    "\n",
    "    if i ==0:\n",
    "        ax.legend().set_visible(True)\n",
    "        ax.set_ylabel(\"log2(CPM+1)\")\n",
    "        \n",
    "    \n",
    "    \n",
    "    gene_row = sig_genes[sig_genes[\"gene_name\"]==subset_transposed.columns[i]]\n",
    "    padj = round(list(gene_row[\"padj\"])[0], 4)\n",
    "    print(padj)\n",
    "    if padj <0.0001:\n",
    "\n",
    "        ax.text(x=0.5, y=1.10, s=f\"{subset_transposed.columns[i]} - FDR <0.0001\", fontsize=10, weight='bold', ha='center', va='bottom', transform=ax.transAxes)\n",
    "        #ax.text(x=0.5, y=1.10, s=f\"FDR <0.0001\", fontsize=13, alpha=0.75, ha='center', va='bottom', transform=ax.transAxes)\n",
    "\n",
    "    else:\n",
    "\n",
    "\n",
    "        ax.text(x=0.5, y=1.10, s=f\"{subset_transposed.columns[i]}- FDR {padj}\", fontsize=10, weight='bold', ha='center', va='bottom', transform=ax.transAxes)\n",
    "        #ax.text(x=0.5, y=1.10, s=f\"FDR {padj}\", fontsize=13, alpha=0.75, ha='center', va='bottom', transform=ax.transAxes)\n",
    "\n",
    "\n",
    "\n",
    "# Adjust spacing between subplots\n",
    "fig.tight_layout()\n",
    "\n",
    "# Display the plot\n",
    "plt.show()\n",
    "\n",
    "fig.savefig(\"/data/projects/2023/Pseudomonas_aeruginosa/deseq2icbi/03_figures/normalized_count_plots/08_normalized_count.png\")\n",
    "\n"
   ]
  },
  {
   "cell_type": "code",
   "execution_count": null,
   "id": "8e3af902-e372-4000-845f-de9d59c92b23",
   "metadata": {},
   "outputs": [],
   "source": []
  }
 ],
 "metadata": {
  "kernelspec": {
   "display_name": "Python [conda env:.conda-2022-default-scanpy]",
   "language": "python",
   "name": "conda-env-.conda-2022-default-scanpy-py"
  },
  "language_info": {
   "codemirror_mode": {
    "name": "ipython",
    "version": 3
   },
   "file_extension": ".py",
   "mimetype": "text/x-python",
   "name": "python",
   "nbconvert_exporter": "python",
   "pygments_lexer": "ipython3",
   "version": "3.10.8"
  }
 },
 "nbformat": 4,
 "nbformat_minor": 5
}
