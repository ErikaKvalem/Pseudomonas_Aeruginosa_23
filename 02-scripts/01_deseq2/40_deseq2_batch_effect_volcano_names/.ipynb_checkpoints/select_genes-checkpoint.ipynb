{
 "cells": [
  {
   "cell_type": "code",
   "execution_count": null,
   "id": "a2995d07-773c-4f99-b89c-7a315e7c6cfd",
   "metadata": {},
   "outputs": [],
   "source": []
  }
 ],
 "metadata": {
  "kernelspec": {
   "display_name": "Python 3 (ipykernel)",
   "language": "python",
   "name": "python3"
  },
  "language_info": {
   "name": ""
  }
 },
 "nbformat": 4,
 "nbformat_minor": 5
}
