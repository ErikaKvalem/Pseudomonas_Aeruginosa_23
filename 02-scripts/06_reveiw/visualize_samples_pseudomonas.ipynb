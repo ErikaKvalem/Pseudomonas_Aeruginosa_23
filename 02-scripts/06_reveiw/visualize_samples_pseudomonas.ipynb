{
 "cells": [
  {
   "cell_type": "markdown",
   "id": "5146494c-2bf9-49ee-87d1-d67f29d517a4",
   "metadata": {},
   "source": [
    "## Bulk functional analysis for Control = 10mix and perturbation = 11mix"
   ]
  },
  {
   "cell_type": "code",
   "execution_count": 1,
   "id": "7184214f-92f6-448f-b609-de474fc1c203",
   "metadata": {},
   "outputs": [],
   "source": [
    "import pandas as pd\n",
    "pd.set_option('display.max_rows', 500)"
   ]
  },
  {
   "cell_type": "markdown",
   "id": "ed316f8d-d7a8-42a8-88a2-c2593aa82d3c",
   "metadata": {},
   "source": [
    "### Import libraries"
   ]
  },
  {
   "cell_type": "code",
   "execution_count": 2,
   "id": "a5dfbcb7-c3f0-4509-ad27-7da0926673a3",
   "metadata": {
    "tags": []
   },
   "outputs": [
    {
     "name": "stderr",
     "output_type": "stream",
     "text": [
      "/home/kvalem/.local/lib/python3.11/site-packages/tqdm/auto.py:21: TqdmWarning: IProgress not found. Please update jupyter and ipywidgets. See https://ipywidgets.readthedocs.io/en/stable/user_install.html\n",
      "  from .autonotebook import tqdm as notebook_tqdm\n"
     ]
    }
   ],
   "source": [
    "import decoupler as dc\n",
    "\n",
    "# Only needed for visualization:\n",
    "import matplotlib.pyplot as plt\n",
    "import numpy as np\n",
    "import pandas as pd\n",
    "import scanpy as sc\n",
    "#import scanpy_helpers as sh\n",
    "import seaborn as sns\n",
    "from itertools import zip_longest\n",
    "from anndata import AnnData\n",
    "from matplotlib import collections  as mc"
   ]
  },
  {
   "cell_type": "code",
   "execution_count": 3,
   "id": "426020d2-bd30-4bff-8f85-c4a7610d1c34",
   "metadata": {},
   "outputs": [],
   "source": [
    "path = \"/data/projects/2023/Pseudomonas_aeruginosa/deseq2icbi\"\n",
    "resDir = \"/data/projects/2023/Pseudomonas_aeruginosa/40_review/\"\n",
    "input_path = f\"{path}/\""
   ]
  },
  {
   "cell_type": "code",
   "execution_count": 4,
   "id": "4c6c3cf2-9e1c-4e20-8edc-be5888a4b135",
   "metadata": {},
   "outputs": [],
   "source": [
    "database_dir = \"/data/projects/2023/Pseudomonas_aeruginosa\"\n",
    "data_dir = (\n",
    "    f\"{database_dir}/20_deseq2icbi/07_deseq2_batch_effect_volcano_names\"\n",
    ")\n",
    "counts_file  = (\n",
    "    f\"{database_dir}/10_rnaseq_pipeline/star_salmon/salmon.merged.gene_counts.tsv\"\n",
    ")\n"
   ]
  },
  {
   "cell_type": "code",
   "execution_count": 5,
   "id": "e15bdc2a-4128-405e-af79-53cbf82ac3b4",
   "metadata": {},
   "outputs": [],
   "source": [
    "counts = pd.read_csv(counts_file, sep = \"\\t\")"
   ]
  },
  {
   "cell_type": "code",
   "execution_count": 6,
   "id": "f0e4e182-67b6-438e-bc22-fab056569a64",
   "metadata": {},
   "outputs": [],
   "source": [
    "# Separate metadata and numeric columns\n",
    "metadata = counts[['gene_id', 'gene_name']]\n",
    "counts_data = counts.drop(['gene_id', 'gene_name'], axis=1)\n",
    "\n",
    "# Convert all count columns to numeric, handling any non-numeric values as NaN\n",
    "counts_data = counts_data.apply(pd.to_numeric, errors='coerce')\n",
    "\n",
    "# Drop columns with all NaN values, if any\n",
    "counts_data = counts_data.dropna(how='all', axis=1)\n",
    "\n",
    "# Calculate CPM\n",
    "counts_sum = counts_data.sum(axis=0)  # Sum of counts for each sample\n",
    "cpm = counts_data.div(counts_sum, axis=1) * 1e6  # Calculate CPM per sample\n",
    "\n",
    "# Log2 transform (adding 1 to avoid log(0))\n",
    "log2_cpm = np.log2(cpm + 1)\n",
    "\n",
    "# Reattach metadata columns\n",
    "log2_cpm_final = pd.concat([metadata, log2_cpm], axis=1)"
   ]
  },
  {
   "cell_type": "code",
   "execution_count": 7,
   "id": "0703ebd5-5a46-4b1b-bc80-a04e78b60b89",
   "metadata": {},
   "outputs": [],
   "source": [
    "tpm = log2_cpm_final"
   ]
  },
  {
   "cell_type": "markdown",
   "id": "534cad5a-479a-4954-9273-f57bf983e986",
   "metadata": {
    "tags": []
   },
   "source": [
    "### Log2 transform CPM"
   ]
  },
  {
   "cell_type": "code",
   "execution_count": 8,
   "id": "515d1339-74c5-4836-9090-15289777880d",
   "metadata": {},
   "outputs": [],
   "source": [
    "log2_cpm_final = log2_cpm_final[log2_cpm_final[\"gene_id\"]==\"ENSG00000137699.17\"]"
   ]
  },
  {
   "cell_type": "code",
   "execution_count": 9,
   "id": "970c8ed3-1c3b-487d-8b35-10a01c57556a",
   "metadata": {},
   "outputs": [
    {
     "data": {
      "text/html": [
       "<div>\n",
       "<style scoped>\n",
       "    .dataframe tbody tr th:only-of-type {\n",
       "        vertical-align: middle;\n",
       "    }\n",
       "\n",
       "    .dataframe tbody tr th {\n",
       "        vertical-align: top;\n",
       "    }\n",
       "\n",
       "    .dataframe thead th {\n",
       "        text-align: right;\n",
       "    }\n",
       "</style>\n",
       "<table border=\"1\" class=\"dataframe\">\n",
       "  <thead>\n",
       "    <tr style=\"text-align: right;\">\n",
       "      <th></th>\n",
       "      <th>gene_id</th>\n",
       "      <th>gene_name</th>\n",
       "      <th>COPD_r1_ctrl</th>\n",
       "      <th>COPD_r1_inf</th>\n",
       "      <th>COPD_r2_ctrl</th>\n",
       "      <th>COPD_r2_inf</th>\n",
       "      <th>COPD_r3_ctrl</th>\n",
       "      <th>COPD_r3_inf</th>\n",
       "      <th>COPD_r4_ctrl</th>\n",
       "      <th>COPD_r4_inf</th>\n",
       "      <th>hAO_r1_ctrl</th>\n",
       "      <th>hAO_r1_inf</th>\n",
       "      <th>hAO_r2_ctrl</th>\n",
       "      <th>hAO_r2_inf</th>\n",
       "      <th>hAO_r3_ctrl</th>\n",
       "      <th>hAO_r3_inf</th>\n",
       "      <th>hAO_r4_ctrl</th>\n",
       "      <th>hAO_r4_inf</th>\n",
       "    </tr>\n",
       "  </thead>\n",
       "  <tbody>\n",
       "    <tr>\n",
       "      <th>7509</th>\n",
       "      <td>ENSG00000137699.17</td>\n",
       "      <td>TRIM29</td>\n",
       "      <td>7.665389</td>\n",
       "      <td>7.662505</td>\n",
       "      <td>7.002987</td>\n",
       "      <td>7.065839</td>\n",
       "      <td>7.212876</td>\n",
       "      <td>7.125302</td>\n",
       "      <td>7.399444</td>\n",
       "      <td>7.57767</td>\n",
       "      <td>7.814328</td>\n",
       "      <td>7.976903</td>\n",
       "      <td>7.427744</td>\n",
       "      <td>7.471113</td>\n",
       "      <td>7.591812</td>\n",
       "      <td>7.590886</td>\n",
       "      <td>7.570653</td>\n",
       "      <td>7.931977</td>\n",
       "    </tr>\n",
       "  </tbody>\n",
       "</table>\n",
       "</div>"
      ],
      "text/plain": [
       "                 gene_id gene_name  COPD_r1_ctrl  COPD_r1_inf  COPD_r2_ctrl  \\\n",
       "7509  ENSG00000137699.17    TRIM29      7.665389     7.662505      7.002987   \n",
       "\n",
       "      COPD_r2_inf  COPD_r3_ctrl  COPD_r3_inf  COPD_r4_ctrl  COPD_r4_inf  \\\n",
       "7509     7.065839      7.212876     7.125302      7.399444      7.57767   \n",
       "\n",
       "      hAO_r1_ctrl  hAO_r1_inf  hAO_r2_ctrl  hAO_r2_inf  hAO_r3_ctrl  \\\n",
       "7509     7.814328    7.976903     7.427744    7.471113     7.591812   \n",
       "\n",
       "      hAO_r3_inf  hAO_r4_ctrl  hAO_r4_inf  \n",
       "7509    7.590886     7.570653    7.931977  "
      ]
     },
     "execution_count": 9,
     "metadata": {},
     "output_type": "execute_result"
    }
   ],
   "source": [
    "log2_cpm_final"
   ]
  },
  {
   "cell_type": "code",
   "execution_count": 10,
   "id": "dc00d70a-c98c-4e70-9a59-fa43780aae94",
   "metadata": {},
   "outputs": [],
   "source": [
    "log2_cpm_final = log2_cpm_final.loc[:, ~log2_cpm_final.columns.str.startswith(\"COPD\")]\n"
   ]
  },
  {
   "cell_type": "code",
   "execution_count": 11,
   "id": "0dd23e27-becc-4cbf-8bc6-263d4eed7095",
   "metadata": {},
   "outputs": [],
   "source": [
    "log2_cpm_final = log2_cpm_final.iloc[:,2:]"
   ]
  },
  {
   "cell_type": "code",
   "execution_count": 12,
   "id": "151472d6-a579-4d21-8ccf-2fa8f881e437",
   "metadata": {},
   "outputs": [
    {
     "data": {
      "text/html": [
       "<div>\n",
       "<style scoped>\n",
       "    .dataframe tbody tr th:only-of-type {\n",
       "        vertical-align: middle;\n",
       "    }\n",
       "\n",
       "    .dataframe tbody tr th {\n",
       "        vertical-align: top;\n",
       "    }\n",
       "\n",
       "    .dataframe thead th {\n",
       "        text-align: right;\n",
       "    }\n",
       "</style>\n",
       "<table border=\"1\" class=\"dataframe\">\n",
       "  <thead>\n",
       "    <tr style=\"text-align: right;\">\n",
       "      <th></th>\n",
       "      <th>hAO_r1_ctrl</th>\n",
       "      <th>hAO_r1_inf</th>\n",
       "      <th>hAO_r2_ctrl</th>\n",
       "      <th>hAO_r2_inf</th>\n",
       "      <th>hAO_r3_ctrl</th>\n",
       "      <th>hAO_r3_inf</th>\n",
       "      <th>hAO_r4_ctrl</th>\n",
       "      <th>hAO_r4_inf</th>\n",
       "    </tr>\n",
       "  </thead>\n",
       "  <tbody>\n",
       "    <tr>\n",
       "      <th>7509</th>\n",
       "      <td>7.814328</td>\n",
       "      <td>7.976903</td>\n",
       "      <td>7.427744</td>\n",
       "      <td>7.471113</td>\n",
       "      <td>7.591812</td>\n",
       "      <td>7.590886</td>\n",
       "      <td>7.570653</td>\n",
       "      <td>7.931977</td>\n",
       "    </tr>\n",
       "  </tbody>\n",
       "</table>\n",
       "</div>"
      ],
      "text/plain": [
       "      hAO_r1_ctrl  hAO_r1_inf  hAO_r2_ctrl  hAO_r2_inf  hAO_r3_ctrl  \\\n",
       "7509     7.814328    7.976903     7.427744    7.471113     7.591812   \n",
       "\n",
       "      hAO_r3_inf  hAO_r4_ctrl  hAO_r4_inf  \n",
       "7509    7.590886     7.570653    7.931977  "
      ]
     },
     "execution_count": 12,
     "metadata": {},
     "output_type": "execute_result"
    }
   ],
   "source": [
    "log2_cpm_final"
   ]
  },
  {
   "cell_type": "code",
   "execution_count": 13,
   "id": "ba0c65b9-a473-4762-8e40-fde2bafa18c2",
   "metadata": {},
   "outputs": [],
   "source": [
    "log2_cpm_final = log2_cpm_final.T"
   ]
  },
  {
   "cell_type": "code",
   "execution_count": 14,
   "id": "0b6d0b70-9bdc-45f1-a9aa-8a3511df4435",
   "metadata": {},
   "outputs": [],
   "source": [
    "log2_cpm_final = log2_cpm_final.rename(columns={7509: \"expression\"})"
   ]
  },
  {
   "cell_type": "code",
   "execution_count": 15,
   "id": "cfe14579-f42c-4603-82b1-2652594bd3f3",
   "metadata": {},
   "outputs": [],
   "source": [
    "log2_cpm_final = log2_cpm_final.reset_index()"
   ]
  },
  {
   "cell_type": "code",
   "execution_count": 16,
   "id": "1e5d7352-1f49-44a0-9e1e-aa7dddb326fe",
   "metadata": {},
   "outputs": [],
   "source": [
    "df = pd.DataFrame(log2_cpm_final)\n",
    "\n",
    "# Creating the new columns based on the specified transformation\n",
    "df['sample'] = df['index'].str.split('_').str[:2].str.join('_')  # Extract \"hAO_rX\" part\n",
    "df['condition'] = df['index'].str.split('_').str[2]  # Extract \"ctrl\" or \"inf\" part"
   ]
  },
  {
   "cell_type": "code",
   "execution_count": 23,
   "id": "d70080a8-e995-4fea-8cd6-594e1b20b2f8",
   "metadata": {},
   "outputs": [
    {
     "name": "stderr",
     "output_type": "stream",
     "text": [
      "/tmp/ipykernel_2685123/3076028897.py:8: UserWarning: \n",
      "\n",
      "The `scale` parameter is deprecated and will be removed in v0.15.0. You can now control the size of each plot element using matplotlib `Line2D` parameters (e.g., `linewidth`, `markersize`, etc.).\n",
      "\n",
      "  sns.pointplot(data=df, x=\"condition\", y=df.columns[1], hue = \"sample\",dodge=True, scale = 1)\n"
     ]
    },
    {
     "data": {
      "image/png": "[encoded data removed]",
      "text/plain": [
       "<Figure size 200x400 with 1 Axes>"
      ]
     },
     "metadata": {},
     "output_type": "display_data"
    }
   ],
   "source": [
    "sns.set(rc={'figure.figsize':(2,4)})\n",
    "sns.set(font_scale=0.9)\n",
    "custom_params = {\"axes.spines.right\": False, \"axes.spines.top\": False}\n",
    "#sns.set_style(\"whitegrid\")\n",
    "sns.set_theme(style=\"ticks\", rc=custom_params)\n",
    "\n",
    "plt.title(\"TRIM29\")\n",
    "sns.pointplot(data=df, x=\"condition\", y=df.columns[1], hue = \"sample\",dodge=True, scale = 1)\n",
    "sns.boxplot(data=df, x=\"condition\",  y=df.columns[1], dodge=True, boxprops=dict(alpha=.1))\n",
    "\n",
    "plt.xlabel(\"\")\n",
    "plt.ylabel(\"CPM Log2\")\n",
    "plt.legend(fontsize='6')\n",
    "plt.savefig('output.png', dpi=500, bbox_inches='tight')"
   ]
  },
  {
   "cell_type": "code",
   "execution_count": null,
   "id": "b96a7cf0-f157-48bc-b9fa-183af90d22a1",
   "metadata": {},
   "outputs": [],
   "source": []
  }
 ],
 "metadata": {
  "kernelspec": {
   "display_name": "Python 3 (ipykernel)",
   "language": "python",
   "name": "python3"
  },
  "language_info": {
   "codemirror_mode": {
    "name": "ipython",
    "version": 3
   },
   "file_extension": ".py",
   "mimetype": "text/x-python",
   "name": "python",
   "nbconvert_exporter": "python",
   "pygments_lexer": "ipython3",
   "version": "3.11.10"
  }
 },
 "nbformat": 4,
 "nbformat_minor": 5
}
