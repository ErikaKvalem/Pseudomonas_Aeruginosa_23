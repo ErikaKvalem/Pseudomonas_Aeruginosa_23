{
 "cells": [
  {
   "cell_type": "markdown",
   "id": "5146494c-2bf9-49ee-87d1-d67f29d517a4",
   "metadata": {},
   "source": [
    "## Bulk functional analysis for Control = 10mix and perturbation = 11mix"
   ]
  },
  {
   "cell_type": "code",
   "execution_count": 34,
   "id": "7184214f-92f6-448f-b609-de474fc1c203",
   "metadata": {},
   "outputs": [],
   "source": [
    "import pandas as pd\n",
    "pd.set_option('display.max_rows', 500)"
   ]
  },
  {
   "cell_type": "markdown",
   "id": "ed316f8d-d7a8-42a8-88a2-c2593aa82d3c",
   "metadata": {},
   "source": [
    "### Import libraries"
   ]
  },
  {
   "cell_type": "code",
   "execution_count": 35,
   "id": "a5dfbcb7-c3f0-4509-ad27-7da0926673a3",
   "metadata": {
    "tags": []
   },
   "outputs": [],
   "source": [
    "import decoupler as dc\n",
    "\n",
    "# Only needed for visualization:\n",
    "import matplotlib.pyplot as plt\n",
    "import numpy as np\n",
    "import pandas as pd\n",
    "import scanpy as sc\n",
    "#import scanpy_helpers as sh\n",
    "import seaborn as sns\n",
    "from itertools import zip_longest\n",
    "from anndata import AnnData\n",
    "from matplotlib import collections  as mc"
   ]
  },
  {
   "cell_type": "code",
   "execution_count": 36,
   "id": "426020d2-bd30-4bff-8f85-c4a7610d1c34",
   "metadata": {},
   "outputs": [],
   "source": [
    "path = \"/data/projects/2023/Pseudomonas_aeruginosa/deseq2icbi\"\n",
    "resDir = \"/data/projects/2023/Pseudomonas_aeruginosa/40_review/\"\n",
    "input_path = f\"{path}/\""
   ]
  },
  {
   "cell_type": "code",
   "execution_count": 37,
   "id": "4c6c3cf2-9e1c-4e20-8edc-be5888a4b135",
   "metadata": {},
   "outputs": [],
   "source": [
    "database_dir = \"/data/projects/2023/Pseudomonas_aeruginosa\"\n",
    "data_dir = (\n",
    "    f\"{database_dir}/20_deseq2icbi/07_deseq2_batch_effect_volcano_names\"\n",
    ")\n",
    "sig_genes_file = (\n",
    "    f\"{data_dir}/hAO_inf_hAO_ctrl_IHWsigGenes.tsv\"\n",
    ")\n",
    "all_genes_file = (\n",
    "    f\"{data_dir}/hAO_inf_hAO_ctrl_IHWallGenes.tsv\"\n",
    ")\n",
    "tpm_file  = (\n",
    "    f\"{database_dir}/10_rnaseq_pipeline/star_salmon/salmon.merged.gene_tpm.tsv\"\n",
    ")\n",
    "\n",
    "counts_file  = (\n",
    "    f\"{database_dir}/10_rnaseq_pipeline/star_salmon/salmon.merged.gene_counts.tsv\"\n",
    ")\n",
    "\n",
    "log2_cpm_plus_one_file  = (\n",
    "    f\"{database_dir}/10_rnaseq_pipeline/star_salmon/log2_cpm_counts_plus_one.tsv\"\n",
    ")"
   ]
  },
  {
   "cell_type": "code",
   "execution_count": 38,
   "id": "e15bdc2a-4128-405e-af79-53cbf82ac3b4",
   "metadata": {},
   "outputs": [],
   "source": [
    "sig_genes = pd.read_csv(sig_genes_file , sep = \"\\t\")\n",
    "all_genes = pd.read_csv(all_genes_file , sep = \"\\t\")\n",
    "tpm = pd.read_csv(tpm_file, sep = \"\\t\")\n",
    "counts = pd.read_csv(counts_file, sep = \"\\t\")\n",
    "#log2_cpm = pd.read_csv(log2_cpm_plus_one_file, sep = \",\")\n",
    "#log2_cpm = log2_cpm.iloc[:,1:]"
   ]
  },
  {
   "cell_type": "code",
   "execution_count": 118,
   "id": "21eb5eb6-9fc8-440b-8abc-a9bdddb2516e",
   "metadata": {},
   "outputs": [],
   "source": [
    "deg = sig_genes"
   ]
  },
  {
   "cell_type": "code",
   "execution_count": 125,
   "id": "f0e4e182-67b6-438e-bc22-fab056569a64",
   "metadata": {},
   "outputs": [],
   "source": [
    "# Separate metadata and numeric columns\n",
    "metadata = counts[['gene_id', 'gene_name']]\n",
    "counts_data = counts.drop(['gene_id', 'gene_name'], axis=1)\n",
    "\n",
    "# Convert all count columns to numeric, handling any non-numeric values as NaN\n",
    "counts_data = counts_data.apply(pd.to_numeric, errors='coerce')\n",
    "\n",
    "# Drop columns with all NaN values, if any\n",
    "counts_data = counts_data.dropna(how='all', axis=1)\n",
    "\n",
    "# Calculate CPM\n",
    "counts_sum = counts_data.sum(axis=0)  # Sum of counts for each sample\n",
    "cpm = counts_data.div(counts_sum, axis=1) * 1e6  # Calculate CPM per sample\n",
    "\n",
    "# Log2 transform (adding 1 to avoid log(0))\n",
    "log2_cpm = np.log2(cpm + 1)\n",
    "\n",
    "# Reattach metadata columns\n",
    "log2_cpm_final = pd.concat([metadata, log2_cpm], axis=1)"
   ]
  },
  {
   "cell_type": "code",
   "execution_count": 146,
   "id": "0703ebd5-5a46-4b1b-bc80-a04e78b60b89",
   "metadata": {},
   "outputs": [],
   "source": [
    "tpm = log2_cpm_final"
   ]
  },
  {
   "cell_type": "markdown",
   "id": "534cad5a-479a-4954-9273-f57bf983e986",
   "metadata": {
    "tags": []
   },
   "source": [
    "### Log2 transform CPM"
   ]
  },
  {
   "cell_type": "code",
   "execution_count": 147,
   "id": "515d1339-74c5-4836-9090-15289777880d",
   "metadata": {},
   "outputs": [],
   "source": [
    "tpm_1 = tpm[tpm[\"gene_id\"]==\"ENSG00000137699.17\"]"
   ]
  },
  {
   "cell_type": "code",
   "execution_count": 148,
   "id": "970c8ed3-1c3b-487d-8b35-10a01c57556a",
   "metadata": {},
   "outputs": [
    {
     "data": {
      "text/html": [
       "<div>\n",
       "<style scoped>\n",
       "    .dataframe tbody tr th:only-of-type {\n",
       "        vertical-align: middle;\n",
       "    }\n",
       "\n",
       "    .dataframe tbody tr th {\n",
       "        vertical-align: top;\n",
       "    }\n",
       "\n",
       "    .dataframe thead th {\n",
       "        text-align: right;\n",
       "    }\n",
       "</style>\n",
       "<table border=\"1\" class=\"dataframe\">\n",
       "  <thead>\n",
       "    <tr style=\"text-align: right;\">\n",
       "      <th></th>\n",
       "      <th>gene_id</th>\n",
       "      <th>gene_name</th>\n",
       "      <th>COPD_r1_ctrl</th>\n",
       "      <th>COPD_r1_inf</th>\n",
       "      <th>COPD_r2_ctrl</th>\n",
       "      <th>COPD_r2_inf</th>\n",
       "      <th>COPD_r3_ctrl</th>\n",
       "      <th>COPD_r3_inf</th>\n",
       "      <th>COPD_r4_ctrl</th>\n",
       "      <th>COPD_r4_inf</th>\n",
       "      <th>hAO_r1_ctrl</th>\n",
       "      <th>hAO_r1_inf</th>\n",
       "      <th>hAO_r2_ctrl</th>\n",
       "      <th>hAO_r2_inf</th>\n",
       "      <th>hAO_r3_ctrl</th>\n",
       "      <th>hAO_r3_inf</th>\n",
       "      <th>hAO_r4_ctrl</th>\n",
       "      <th>hAO_r4_inf</th>\n",
       "    </tr>\n",
       "  </thead>\n",
       "  <tbody>\n",
       "    <tr>\n",
       "      <th>7509</th>\n",
       "      <td>ENSG00000137699.17</td>\n",
       "      <td>TRIM29</td>\n",
       "      <td>7.665389</td>\n",
       "      <td>7.662505</td>\n",
       "      <td>7.002987</td>\n",
       "      <td>7.065839</td>\n",
       "      <td>7.212876</td>\n",
       "      <td>7.125302</td>\n",
       "      <td>7.399444</td>\n",
       "      <td>7.57767</td>\n",
       "      <td>7.814328</td>\n",
       "      <td>7.976903</td>\n",
       "      <td>7.427744</td>\n",
       "      <td>7.471113</td>\n",
       "      <td>7.591812</td>\n",
       "      <td>7.590886</td>\n",
       "      <td>7.570653</td>\n",
       "      <td>7.931977</td>\n",
       "    </tr>\n",
       "  </tbody>\n",
       "</table>\n",
       "</div>"
      ],
      "text/plain": [
       "                 gene_id gene_name  COPD_r1_ctrl  COPD_r1_inf  COPD_r2_ctrl  \\\n",
       "7509  ENSG00000137699.17    TRIM29      7.665389     7.662505      7.002987   \n",
       "\n",
       "      COPD_r2_inf  COPD_r3_ctrl  COPD_r3_inf  COPD_r4_ctrl  COPD_r4_inf  \\\n",
       "7509     7.065839      7.212876     7.125302      7.399444      7.57767   \n",
       "\n",
       "      hAO_r1_ctrl  hAO_r1_inf  hAO_r2_ctrl  hAO_r2_inf  hAO_r3_ctrl  \\\n",
       "7509     7.814328    7.976903     7.427744    7.471113     7.591812   \n",
       "\n",
       "      hAO_r3_inf  hAO_r4_ctrl  hAO_r4_inf  \n",
       "7509    7.590886     7.570653    7.931977  "
      ]
     },
     "execution_count": 148,
     "metadata": {},
     "output_type": "execute_result"
    }
   ],
   "source": [
    "tpm_1"
   ]
  },
  {
   "cell_type": "code",
   "execution_count": 149,
   "id": "dc00d70a-c98c-4e70-9a59-fa43780aae94",
   "metadata": {},
   "outputs": [],
   "source": [
    "tpm_1 = tpm_1.loc[:, ~tpm_1.columns.str.startswith(\"COPD\")]\n"
   ]
  },
  {
   "cell_type": "code",
   "execution_count": 150,
   "id": "0dd23e27-becc-4cbf-8bc6-263d4eed7095",
   "metadata": {},
   "outputs": [],
   "source": [
    "tpm_1 = tpm_1.iloc[:,2:]"
   ]
  },
  {
   "cell_type": "code",
   "execution_count": 151,
   "id": "151472d6-a579-4d21-8ccf-2fa8f881e437",
   "metadata": {},
   "outputs": [
    {
     "data": {
      "text/html": [
       "<div>\n",
       "<style scoped>\n",
       "    .dataframe tbody tr th:only-of-type {\n",
       "        vertical-align: middle;\n",
       "    }\n",
       "\n",
       "    .dataframe tbody tr th {\n",
       "        vertical-align: top;\n",
       "    }\n",
       "\n",
       "    .dataframe thead th {\n",
       "        text-align: right;\n",
       "    }\n",
       "</style>\n",
       "<table border=\"1\" class=\"dataframe\">\n",
       "  <thead>\n",
       "    <tr style=\"text-align: right;\">\n",
       "      <th></th>\n",
       "      <th>hAO_r1_ctrl</th>\n",
       "      <th>hAO_r1_inf</th>\n",
       "      <th>hAO_r2_ctrl</th>\n",
       "      <th>hAO_r2_inf</th>\n",
       "      <th>hAO_r3_ctrl</th>\n",
       "      <th>hAO_r3_inf</th>\n",
       "      <th>hAO_r4_ctrl</th>\n",
       "      <th>hAO_r4_inf</th>\n",
       "    </tr>\n",
       "  </thead>\n",
       "  <tbody>\n",
       "    <tr>\n",
       "      <th>7509</th>\n",
       "      <td>7.814328</td>\n",
       "      <td>7.976903</td>\n",
       "      <td>7.427744</td>\n",
       "      <td>7.471113</td>\n",
       "      <td>7.591812</td>\n",
       "      <td>7.590886</td>\n",
       "      <td>7.570653</td>\n",
       "      <td>7.931977</td>\n",
       "    </tr>\n",
       "  </tbody>\n",
       "</table>\n",
       "</div>"
      ],
      "text/plain": [
       "      hAO_r1_ctrl  hAO_r1_inf  hAO_r2_ctrl  hAO_r2_inf  hAO_r3_ctrl  \\\n",
       "7509     7.814328    7.976903     7.427744    7.471113     7.591812   \n",
       "\n",
       "      hAO_r3_inf  hAO_r4_ctrl  hAO_r4_inf  \n",
       "7509    7.590886     7.570653    7.931977  "
      ]
     },
     "execution_count": 151,
     "metadata": {},
     "output_type": "execute_result"
    }
   ],
   "source": [
    "tpm_1"
   ]
  },
  {
   "cell_type": "code",
   "execution_count": 152,
   "id": "ba0c65b9-a473-4762-8e40-fde2bafa18c2",
   "metadata": {},
   "outputs": [],
   "source": [
    "tpm_1 = tpm_1.T"
   ]
  },
  {
   "cell_type": "code",
   "execution_count": 153,
   "id": "0b6d0b70-9bdc-45f1-a9aa-8a3511df4435",
   "metadata": {},
   "outputs": [],
   "source": [
    "tpm_1 = tpm_1.rename(columns={7509: \"expression\"})"
   ]
  },
  {
   "cell_type": "code",
   "execution_count": 154,
   "id": "cfe14579-f42c-4603-82b1-2652594bd3f3",
   "metadata": {},
   "outputs": [],
   "source": [
    "tpm_1 = tpm_1.reset_index()"
   ]
  },
  {
   "cell_type": "code",
   "execution_count": 155,
   "id": "8fb057b0-1b84-4972-b3f5-e67f519ca5b5",
   "metadata": {},
   "outputs": [
    {
     "data": {
      "text/html": [
       "<div>\n",
       "<style scoped>\n",
       "    .dataframe tbody tr th:only-of-type {\n",
       "        vertical-align: middle;\n",
       "    }\n",
       "\n",
       "    .dataframe tbody tr th {\n",
       "        vertical-align: top;\n",
       "    }\n",
       "\n",
       "    .dataframe thead th {\n",
       "        text-align: right;\n",
       "    }\n",
       "</style>\n",
       "<table border=\"1\" class=\"dataframe\">\n",
       "  <thead>\n",
       "    <tr style=\"text-align: right;\">\n",
       "      <th></th>\n",
       "      <th>index</th>\n",
       "      <th>expression</th>\n",
       "    </tr>\n",
       "  </thead>\n",
       "  <tbody>\n",
       "    <tr>\n",
       "      <th>0</th>\n",
       "      <td>hAO_r1_ctrl</td>\n",
       "      <td>7.814328</td>\n",
       "    </tr>\n",
       "    <tr>\n",
       "      <th>1</th>\n",
       "      <td>hAO_r1_inf</td>\n",
       "      <td>7.976903</td>\n",
       "    </tr>\n",
       "    <tr>\n",
       "      <th>2</th>\n",
       "      <td>hAO_r2_ctrl</td>\n",
       "      <td>7.427744</td>\n",
       "    </tr>\n",
       "    <tr>\n",
       "      <th>3</th>\n",
       "      <td>hAO_r2_inf</td>\n",
       "      <td>7.471113</td>\n",
       "    </tr>\n",
       "    <tr>\n",
       "      <th>4</th>\n",
       "      <td>hAO_r3_ctrl</td>\n",
       "      <td>7.591812</td>\n",
       "    </tr>\n",
       "    <tr>\n",
       "      <th>5</th>\n",
       "      <td>hAO_r3_inf</td>\n",
       "      <td>7.590886</td>\n",
       "    </tr>\n",
       "    <tr>\n",
       "      <th>6</th>\n",
       "      <td>hAO_r4_ctrl</td>\n",
       "      <td>7.570653</td>\n",
       "    </tr>\n",
       "    <tr>\n",
       "      <th>7</th>\n",
       "      <td>hAO_r4_inf</td>\n",
       "      <td>7.931977</td>\n",
       "    </tr>\n",
       "  </tbody>\n",
       "</table>\n",
       "</div>"
      ],
      "text/plain": [
       "         index  expression\n",
       "0  hAO_r1_ctrl    7.814328\n",
       "1   hAO_r1_inf    7.976903\n",
       "2  hAO_r2_ctrl    7.427744\n",
       "3   hAO_r2_inf    7.471113\n",
       "4  hAO_r3_ctrl    7.591812\n",
       "5   hAO_r3_inf    7.590886\n",
       "6  hAO_r4_ctrl    7.570653\n",
       "7   hAO_r4_inf    7.931977"
      ]
     },
     "execution_count": 155,
     "metadata": {},
     "output_type": "execute_result"
    }
   ],
   "source": [
    "tpm_1"
   ]
  },
  {
   "cell_type": "code",
   "execution_count": 156,
   "id": "1e5d7352-1f49-44a0-9e1e-aa7dddb326fe",
   "metadata": {},
   "outputs": [],
   "source": [
    "df = pd.DataFrame(tpm_1)\n",
    "\n",
    "# Creating the new columns based on the specified transformation\n",
    "df['sample'] = df['index'].str.split('_').str[:2].str.join('_')  # Extract \"hAO_rX\" part\n",
    "df['condition'] = df['index'].str.split('_').str[2]  # Extract \"ctrl\" or \"inf\" part\n",
    "\n",
    "# Drop the original column '7509' and rename 'index' if needed\n",
    "#df = df.drop(columns=['7509'])\n"
   ]
  },
  {
   "cell_type": "code",
   "execution_count": 157,
   "id": "d9a480b7-c351-4d1b-96b4-c708436239f3",
   "metadata": {},
   "outputs": [
    {
     "data": {
      "text/html": [
       "<div>\n",
       "<style scoped>\n",
       "    .dataframe tbody tr th:only-of-type {\n",
       "        vertical-align: middle;\n",
       "    }\n",
       "\n",
       "    .dataframe tbody tr th {\n",
       "        vertical-align: top;\n",
       "    }\n",
       "\n",
       "    .dataframe thead th {\n",
       "        text-align: right;\n",
       "    }\n",
       "</style>\n",
       "<table border=\"1\" class=\"dataframe\">\n",
       "  <thead>\n",
       "    <tr style=\"text-align: right;\">\n",
       "      <th></th>\n",
       "      <th>index</th>\n",
       "      <th>expression</th>\n",
       "      <th>sample</th>\n",
       "      <th>condition</th>\n",
       "    </tr>\n",
       "  </thead>\n",
       "  <tbody>\n",
       "    <tr>\n",
       "      <th>0</th>\n",
       "      <td>hAO_r1_ctrl</td>\n",
       "      <td>7.814328</td>\n",
       "      <td>hAO_r1</td>\n",
       "      <td>ctrl</td>\n",
       "    </tr>\n",
       "    <tr>\n",
       "      <th>1</th>\n",
       "      <td>hAO_r1_inf</td>\n",
       "      <td>7.976903</td>\n",
       "      <td>hAO_r1</td>\n",
       "      <td>inf</td>\n",
       "    </tr>\n",
       "    <tr>\n",
       "      <th>2</th>\n",
       "      <td>hAO_r2_ctrl</td>\n",
       "      <td>7.427744</td>\n",
       "      <td>hAO_r2</td>\n",
       "      <td>ctrl</td>\n",
       "    </tr>\n",
       "    <tr>\n",
       "      <th>3</th>\n",
       "      <td>hAO_r2_inf</td>\n",
       "      <td>7.471113</td>\n",
       "      <td>hAO_r2</td>\n",
       "      <td>inf</td>\n",
       "    </tr>\n",
       "    <tr>\n",
       "      <th>4</th>\n",
       "      <td>hAO_r3_ctrl</td>\n",
       "      <td>7.591812</td>\n",
       "      <td>hAO_r3</td>\n",
       "      <td>ctrl</td>\n",
       "    </tr>\n",
       "    <tr>\n",
       "      <th>5</th>\n",
       "      <td>hAO_r3_inf</td>\n",
       "      <td>7.590886</td>\n",
       "      <td>hAO_r3</td>\n",
       "      <td>inf</td>\n",
       "    </tr>\n",
       "    <tr>\n",
       "      <th>6</th>\n",
       "      <td>hAO_r4_ctrl</td>\n",
       "      <td>7.570653</td>\n",
       "      <td>hAO_r4</td>\n",
       "      <td>ctrl</td>\n",
       "    </tr>\n",
       "    <tr>\n",
       "      <th>7</th>\n",
       "      <td>hAO_r4_inf</td>\n",
       "      <td>7.931977</td>\n",
       "      <td>hAO_r4</td>\n",
       "      <td>inf</td>\n",
       "    </tr>\n",
       "  </tbody>\n",
       "</table>\n",
       "</div>"
      ],
      "text/plain": [
       "         index  expression  sample condition\n",
       "0  hAO_r1_ctrl    7.814328  hAO_r1      ctrl\n",
       "1   hAO_r1_inf    7.976903  hAO_r1       inf\n",
       "2  hAO_r2_ctrl    7.427744  hAO_r2      ctrl\n",
       "3   hAO_r2_inf    7.471113  hAO_r2       inf\n",
       "4  hAO_r3_ctrl    7.591812  hAO_r3      ctrl\n",
       "5   hAO_r3_inf    7.590886  hAO_r3       inf\n",
       "6  hAO_r4_ctrl    7.570653  hAO_r4      ctrl\n",
       "7   hAO_r4_inf    7.931977  hAO_r4       inf"
      ]
     },
     "execution_count": 157,
     "metadata": {},
     "output_type": "execute_result"
    }
   ],
   "source": [
    "df"
   ]
  },
  {
   "cell_type": "code",
   "execution_count": 158,
   "id": "5e729aba-91f1-4458-8360-23747b83a241",
   "metadata": {},
   "outputs": [],
   "source": [
    "tpm_1 = df"
   ]
  },
  {
   "cell_type": "code",
   "execution_count": 159,
   "id": "8390b7a1-2c26-4c5c-a545-fff80bc03b73",
   "metadata": {},
   "outputs": [
    {
     "data": {
      "text/html": [
       "<div>\n",
       "<style scoped>\n",
       "    .dataframe tbody tr th:only-of-type {\n",
       "        vertical-align: middle;\n",
       "    }\n",
       "\n",
       "    .dataframe tbody tr th {\n",
       "        vertical-align: top;\n",
       "    }\n",
       "\n",
       "    .dataframe thead th {\n",
       "        text-align: right;\n",
       "    }\n",
       "</style>\n",
       "<table border=\"1\" class=\"dataframe\">\n",
       "  <thead>\n",
       "    <tr style=\"text-align: right;\">\n",
       "      <th></th>\n",
       "      <th>index</th>\n",
       "      <th>expression</th>\n",
       "      <th>sample</th>\n",
       "      <th>condition</th>\n",
       "    </tr>\n",
       "  </thead>\n",
       "  <tbody>\n",
       "    <tr>\n",
       "      <th>0</th>\n",
       "      <td>hAO_r1_ctrl</td>\n",
       "      <td>7.814328</td>\n",
       "      <td>hAO_r1</td>\n",
       "      <td>ctrl</td>\n",
       "    </tr>\n",
       "    <tr>\n",
       "      <th>1</th>\n",
       "      <td>hAO_r1_inf</td>\n",
       "      <td>7.976903</td>\n",
       "      <td>hAO_r1</td>\n",
       "      <td>inf</td>\n",
       "    </tr>\n",
       "    <tr>\n",
       "      <th>2</th>\n",
       "      <td>hAO_r2_ctrl</td>\n",
       "      <td>7.427744</td>\n",
       "      <td>hAO_r2</td>\n",
       "      <td>ctrl</td>\n",
       "    </tr>\n",
       "    <tr>\n",
       "      <th>3</th>\n",
       "      <td>hAO_r2_inf</td>\n",
       "      <td>7.471113</td>\n",
       "      <td>hAO_r2</td>\n",
       "      <td>inf</td>\n",
       "    </tr>\n",
       "    <tr>\n",
       "      <th>4</th>\n",
       "      <td>hAO_r3_ctrl</td>\n",
       "      <td>7.591812</td>\n",
       "      <td>hAO_r3</td>\n",
       "      <td>ctrl</td>\n",
       "    </tr>\n",
       "    <tr>\n",
       "      <th>5</th>\n",
       "      <td>hAO_r3_inf</td>\n",
       "      <td>7.590886</td>\n",
       "      <td>hAO_r3</td>\n",
       "      <td>inf</td>\n",
       "    </tr>\n",
       "    <tr>\n",
       "      <th>6</th>\n",
       "      <td>hAO_r4_ctrl</td>\n",
       "      <td>7.570653</td>\n",
       "      <td>hAO_r4</td>\n",
       "      <td>ctrl</td>\n",
       "    </tr>\n",
       "    <tr>\n",
       "      <th>7</th>\n",
       "      <td>hAO_r4_inf</td>\n",
       "      <td>7.931977</td>\n",
       "      <td>hAO_r4</td>\n",
       "      <td>inf</td>\n",
       "    </tr>\n",
       "  </tbody>\n",
       "</table>\n",
       "</div>"
      ],
      "text/plain": [
       "         index  expression  sample condition\n",
       "0  hAO_r1_ctrl    7.814328  hAO_r1      ctrl\n",
       "1   hAO_r1_inf    7.976903  hAO_r1       inf\n",
       "2  hAO_r2_ctrl    7.427744  hAO_r2      ctrl\n",
       "3   hAO_r2_inf    7.471113  hAO_r2       inf\n",
       "4  hAO_r3_ctrl    7.591812  hAO_r3      ctrl\n",
       "5   hAO_r3_inf    7.590886  hAO_r3       inf\n",
       "6  hAO_r4_ctrl    7.570653  hAO_r4      ctrl\n",
       "7   hAO_r4_inf    7.931977  hAO_r4       inf"
      ]
     },
     "execution_count": 159,
     "metadata": {},
     "output_type": "execute_result"
    }
   ],
   "source": [
    "tpm_1"
   ]
  },
  {
   "cell_type": "code",
   "execution_count": 160,
   "id": "9dab4999-4d9c-4eca-a60d-5ffcac2fb6f8",
   "metadata": {},
   "outputs": [],
   "source": [
    "sns.set(rc={'figure.figsize':(2,4)})\n",
    "sns.set(font_scale=0.9)\n",
    "custom_params = {\"axes.spines.right\": False, \"axes.spines.top\": False}\n",
    "#sns.set_style(\"whitegrid\")\n",
    "sns.set_theme(style=\"ticks\", rc=custom_params)"
   ]
  },
  {
   "cell_type": "code",
   "execution_count": 161,
   "id": "59eabf9b-08f8-4cee-b653-4f6b6cf4a594",
   "metadata": {},
   "outputs": [],
   "source": [
    "trim29_row = deg.loc[deg[\"gene_name\"] == \"TRIM29\"]"
   ]
  },
  {
   "cell_type": "code",
   "execution_count": 162,
   "id": "1514162b-e310-476c-b6c8-6b8e37e1d802",
   "metadata": {},
   "outputs": [
    {
     "data": {
      "text/html": [
       "<div>\n",
       "<style scoped>\n",
       "    .dataframe tbody tr th:only-of-type {\n",
       "        vertical-align: middle;\n",
       "    }\n",
       "\n",
       "    .dataframe tbody tr th {\n",
       "        vertical-align: top;\n",
       "    }\n",
       "\n",
       "    .dataframe thead th {\n",
       "        text-align: right;\n",
       "    }\n",
       "</style>\n",
       "<table border=\"1\" class=\"dataframe\">\n",
       "  <thead>\n",
       "    <tr style=\"text-align: right;\">\n",
       "      <th></th>\n",
       "      <th>index</th>\n",
       "      <th>expression</th>\n",
       "      <th>sample</th>\n",
       "      <th>condition</th>\n",
       "    </tr>\n",
       "  </thead>\n",
       "  <tbody>\n",
       "    <tr>\n",
       "      <th>0</th>\n",
       "      <td>hAO_r1_ctrl</td>\n",
       "      <td>7.814328</td>\n",
       "      <td>hAO_r1</td>\n",
       "      <td>ctrl</td>\n",
       "    </tr>\n",
       "    <tr>\n",
       "      <th>1</th>\n",
       "      <td>hAO_r1_inf</td>\n",
       "      <td>7.976903</td>\n",
       "      <td>hAO_r1</td>\n",
       "      <td>inf</td>\n",
       "    </tr>\n",
       "    <tr>\n",
       "      <th>2</th>\n",
       "      <td>hAO_r2_ctrl</td>\n",
       "      <td>7.427744</td>\n",
       "      <td>hAO_r2</td>\n",
       "      <td>ctrl</td>\n",
       "    </tr>\n",
       "    <tr>\n",
       "      <th>3</th>\n",
       "      <td>hAO_r2_inf</td>\n",
       "      <td>7.471113</td>\n",
       "      <td>hAO_r2</td>\n",
       "      <td>inf</td>\n",
       "    </tr>\n",
       "    <tr>\n",
       "      <th>4</th>\n",
       "      <td>hAO_r3_ctrl</td>\n",
       "      <td>7.591812</td>\n",
       "      <td>hAO_r3</td>\n",
       "      <td>ctrl</td>\n",
       "    </tr>\n",
       "    <tr>\n",
       "      <th>5</th>\n",
       "      <td>hAO_r3_inf</td>\n",
       "      <td>7.590886</td>\n",
       "      <td>hAO_r3</td>\n",
       "      <td>inf</td>\n",
       "    </tr>\n",
       "    <tr>\n",
       "      <th>6</th>\n",
       "      <td>hAO_r4_ctrl</td>\n",
       "      <td>7.570653</td>\n",
       "      <td>hAO_r4</td>\n",
       "      <td>ctrl</td>\n",
       "    </tr>\n",
       "    <tr>\n",
       "      <th>7</th>\n",
       "      <td>hAO_r4_inf</td>\n",
       "      <td>7.931977</td>\n",
       "      <td>hAO_r4</td>\n",
       "      <td>inf</td>\n",
       "    </tr>\n",
       "  </tbody>\n",
       "</table>\n",
       "</div>"
      ],
      "text/plain": [
       "         index  expression  sample condition\n",
       "0  hAO_r1_ctrl    7.814328  hAO_r1      ctrl\n",
       "1   hAO_r1_inf    7.976903  hAO_r1       inf\n",
       "2  hAO_r2_ctrl    7.427744  hAO_r2      ctrl\n",
       "3   hAO_r2_inf    7.471113  hAO_r2       inf\n",
       "4  hAO_r3_ctrl    7.591812  hAO_r3      ctrl\n",
       "5   hAO_r3_inf    7.590886  hAO_r3       inf\n",
       "6  hAO_r4_ctrl    7.570653  hAO_r4      ctrl\n",
       "7   hAO_r4_inf    7.931977  hAO_r4       inf"
      ]
     },
     "execution_count": 162,
     "metadata": {},
     "output_type": "execute_result"
    }
   ],
   "source": [
    "tpm_1"
   ]
  },
  {
   "cell_type": "code",
   "execution_count": 163,
   "id": "799c9d44-4cf7-4853-af2d-a15800b229de",
   "metadata": {},
   "outputs": [],
   "source": [
    "#plt.title(str(deg.iloc[1][\"gene_name\"]) + \" FDR \" + str(round(deg.iloc[1][\"padj\"],7)))"
   ]
  },
  {
   "cell_type": "code",
   "execution_count": 165,
   "id": "d70080a8-e995-4fea-8cd6-594e1b20b2f8",
   "metadata": {},
   "outputs": [
    {
     "name": "stderr",
     "output_type": "stream",
     "text": [
      "/tmp/ipykernel_2684744/2945995543.py:2: UserWarning: \n",
      "\n",
      "The `scale` parameter is deprecated and will be removed in v0.15.0. You can now control the size of each plot element using matplotlib `Line2D` parameters (e.g., `linewidth`, `markersize`, etc.).\n",
      "\n",
      "  sns.pointplot(data=tpm_1, x=\"condition\", y=tpm_1.columns[1], hue = \"sample\",dodge=True, scale = 1)\n"
     ]
    },
    {
     "data": {
      "text/plain": [
       "<matplotlib.legend.Legend at 0x149e8b320290>"
      ]
     },
     "execution_count": 165,
     "metadata": {},
     "output_type": "execute_result"
    },
    {
     "data": {
      "image/png": "[encoded data removed]",
      "text/plain": [
       "<Figure size 200x400 with 1 Axes>"
      ]
     },
     "metadata": {},
     "output_type": "display_data"
    }
   ],
   "source": [
    "plt.title(\"TRIM29\")\n",
    "sns.pointplot(data=tpm_1, x=\"condition\", y=tpm_1.columns[1], hue = \"sample\",dodge=True, scale = 1)\n",
    "sns.boxplot(data=tpm_1, x=\"condition\",  y=tpm_1.columns[1], dodge=True, boxprops=dict(alpha=.1))\n",
    "\n",
    "plt.xlabel(\"Condition\")\n",
    "plt.ylabel(\"Log2 transform CPM\")\n",
    "plt.legend(fontsize='6')"
   ]
  },
  {
   "cell_type": "code",
   "execution_count": null,
   "id": "b96a7cf0-f157-48bc-b9fa-183af90d22a1",
   "metadata": {},
   "outputs": [],
   "source": []
  }
 ],
 "metadata": {
  "kernelspec": {
   "display_name": "Python 3 (ipykernel)",
   "language": "python",
   "name": "python3"
  },
  "language_info": {
   "codemirror_mode": {
    "name": "ipython",
    "version": 3
   },
   "file_extension": ".py",
   "mimetype": "text/x-python",
   "name": "python",
   "nbconvert_exporter": "python",
   "pygments_lexer": "ipython3",
   "version": "3.11.10"
  }
 },
 "nbformat": 4,
 "nbformat_minor": 5
}
