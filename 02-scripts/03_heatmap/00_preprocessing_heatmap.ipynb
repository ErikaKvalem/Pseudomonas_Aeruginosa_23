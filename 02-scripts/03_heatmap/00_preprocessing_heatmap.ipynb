{
 "cells": [
  {
   "cell_type": "markdown",
   "id": "3d1a79dc-b85f-42fc-be9e-56adcc52a30e",
   "metadata": {},
   "source": [
    "# RNA-Seq data analysis Airway Organoid - Pseudomonas Project. \n",
    "## Heatmaps of gene-regulation for specific gene-sets \n"
   ]
  },
  {
   "cell_type": "code",
   "execution_count": 43,
   "id": "661e4f04-6a4c-4f1d-a4a5-6838914710d2",
   "metadata": {},
   "outputs": [],
   "source": [
    "import pandas as pd \n",
    "import os \n",
    "import altair as alt\n",
    "from typing import Literal\n",
    "\n",
    "\n",
    "count_per_million = \"/data/scratch/kvalem/projects/2023/pseudomonas_aeruginosa/tables/log2_cpm_counts_plus_one.tsv\"\n",
    "deseq2_results = \"/data/projects/2023/Pseudomonas_aeruginosa/20_deseq2icbi/01_deseq2/hAO_inf_vs_hAO_ctrl/\"\n"
   ]
  },
  {
   "cell_type": "code",
   "execution_count": 44,
   "id": "590eb923-d67f-4357-af47-88d55d7627e8",
   "metadata": {},
   "outputs": [],
   "source": [
    "count_mat = pd.read_csv(count_per_million,index_col=0 ) #LOAD LAREADY NORMALIZED COUNT"
   ]
  },
  {
   "cell_type": "code",
   "execution_count": 45,
   "id": "4d4686ad-91fb-4620-9595-9c36588e2f8d",
   "metadata": {},
   "outputs": [],
   "source": [
    "count_mat[['gene_ensemlb','transcript']] = count_mat['gene_id'].str.split('.', expand=True)\n",
    "count_mat = count_mat[count_mat.columns.drop(list(count_mat.filter(regex=\"COPD\")))]"
   ]
  },
  {
   "cell_type": "markdown",
   "id": "4a87097a-e826-444d-b612-8d541b5f618a",
   "metadata": {},
   "source": [
    "### Merge duplicated transcripts with same gene name  and calculate the mean for each columns "
   ]
  },
  {
   "cell_type": "code",
   "execution_count": 46,
   "id": "dea67723-a3cb-499f-a089-0b0a7e24933f",
   "metadata": {},
   "outputs": [],
   "source": [
    "col_dict  = {}\n",
    "for i in count_mat.columns[2:-2]:\n",
    "    col_dict[i] = \"mean\""
   ]
  },
  {
   "cell_type": "code",
   "execution_count": 47,
   "id": "5273399e-742f-404a-89b6-b223c6cb6c2a",
   "metadata": {},
   "outputs": [],
   "source": [
    "count_mat_mean = count_mat.groupby(count_mat['gene_ensemlb']).aggregate(col_dict)"
   ]
  },
  {
   "cell_type": "markdown",
   "id": "9086b4c0-1f76-4a51-be39-13235cf5fcd7",
   "metadata": {},
   "source": [
    "### Define gene sets of interest"
   ]
  },
  {
   "cell_type": "markdown",
   "id": "18895642-b6cf-4f06-b08a-810c5f8e1664",
   "metadata": {},
   "source": [
    "#### GSEA BIOLOGICAL PRODUCTS "
   ]
  },
  {
   "cell_type": "code",
   "execution_count": 48,
   "id": "09788fe9-9611-46db-8155-88fbd6540523",
   "metadata": {},
   "outputs": [],
   "source": [
    "gsea_bp = \"hAO_inf_hAO_ctrl_GSEA_GO_BP.tsv\"\n",
    "path = os.path.join(deseq2_results,gsea_bp)\n",
    "bioprod_gsea = pd.read_csv(path , sep = \"\\t\")"
   ]
  },
  {
   "cell_type": "code",
   "execution_count": 49,
   "id": "4c22d3c4-9675-4070-bf10-41892cb952f9",
   "metadata": {},
   "outputs": [],
   "source": [
    "geneset_of_interest_name = [\"response to bacterium\",\n",
    "                           \"response to lipopolysaccharide\",\n",
    "                           \"regulation of defence response\",\n",
    "                           \"nitric oxide metabolic process\",\n",
    "                           \"reactive oxygen species metabolic process\",\n",
    "                           \"antimicrobial humoral response\",\n",
    "                           \"antimicrobial humoral immune response mediated by antimicrobial peptide\",\n",
    "                           #\"Signaling by Interleukins\", from REACTOME \n",
    "                           \"cilium assembly\",\n",
    "                           \"cilium organization\",\n",
    "                           \"cilium movement\"]"
   ]
  },
  {
   "cell_type": "code",
   "execution_count": 125,
   "id": "8132a81e-cb28-4ec7-a68f-0d7c67406122",
   "metadata": {},
   "outputs": [
    {
     "name": "stdout",
     "output_type": "stream",
     "text": [
      "['SOD2', 'AKAP12', 'CYP1A1', 'TNIP3', 'DEFB4A', 'TNFRSF1B', 'CSF3', 'TNIP1', 'PI3', 'LYN', 'CCL2', 'IRAK3', 'SLC7A5', 'RIPK2', 'TNIP2', 'GCH1', 'TNFRSF11A', 'S100A9', 'CXCL8', 'IL36G', 'BMP2', 'LITAF', 'NOS2', 'PTAFR', 'SRC', 'PTGS2', 'PGLYRP4', 'IRAK2', 'CXCL6', 'NFKB1', 'CXCL3', 'KMO', 'CX3CL1', 'ARG2', 'TLR2', 'NFKBIB', 'ADAM17', 'PGLYRP2', 'RELA', 'TGFB1', 'MAPKAPK2', 'IFNAR1', 'CCL20', 'BPIFA2', 'CXCL5', 'MAP2K3', 'SBNO2', 'JAK2', 'PRG2', 'GJB2', 'VGF', 'BAIAP2L1', 'CSF1', 'AKAP8', 'UGT1A1', 'TNFAIP3', 'SMAD6', 'ZC3H12A', 'S100A8', 'TMF1', 'IL23A', 'DHX15', 'TNF', 'CYRIB', 'ANKRD17', 'PGLYRP3', 'SELENOS', 'S100A12', 'IRF3', 'MAPK14', 'GBP2', 'H2BC21', 'TNFRSF14', 'RGS1', 'NOTCH1', 'RARRES2', 'SIRPA', 'NOD2', 'CD274', 'ASS1', 'S100A7', 'MAPK8', 'AKIRIN2', 'IL1A', 'BNIP3', 'CXCL2', 'IDO1', 'CITED1', 'NFKBIA', 'CXCL1', 'GJB6', 'TENT5A', 'TICAM2', 'TBK1', 'C15orf48', 'BCL10', 'DMBT1', 'RAB1A']\n",
      "['SOD2', 'AKAP12', 'CYP1A1', 'TNIP3', 'TNFRSF1B', 'CSF3', 'TNIP1', 'LYN', 'CCL2', 'IRAK3', 'SLC7A5', 'RIPK2', 'TNIP2', 'GCH1', 'TNFRSF11A', 'S100A9', 'CXCL8', 'IL36G', 'LITAF', 'NOS2', 'PTAFR', 'SRC', 'PTGS2', 'IRAK2', 'CXCL6', 'NFKB1', 'CXCL3', 'KMO', 'CX3CL1', 'TLR2', 'NFKBIB', 'ADAM17', 'RELA', 'TGFB1', 'MAPKAPK2', 'IFNAR1', 'CXCL5', 'MAP2K3', 'SBNO2', 'JAK2', 'GJB2', 'CSF1', 'AKAP8', 'UGT1A1', 'TNFAIP3', 'SMAD6', 'ZC3H12A', 'S100A8', 'TNF', 'SELENOS', 'IRF3', 'MAPK14', 'NOTCH1', 'SIRPA', 'NOD2', 'CD274', 'ASS1', 'S100A7', 'MAPK8', 'AKIRIN2', 'IL1A', 'CXCL2', 'IDO1', 'CITED1', 'NFKBIA', 'CXCL1', 'GJB6', 'TICAM2']\n",
      "Empty gene set: regulation of defence response\n",
      "['SOD2', 'CYP1B1', 'TMEM106A', 'GCH1', 'NOS2', 'PTGS2', 'ARG2', 'CD34', 'TLR2', 'RAC1', 'JAK2', 'SMAD3', 'PTK2B', 'ZC3H12A', 'ATP2B4', 'TNF', 'SELENOS', 'SIRPA', 'ASS1', 'DDAH2']\n",
      "['SOD2', 'IL19', 'CYP1B1', 'CYP1A2', 'CYP1A1', 'CFLAR', 'SH3PXD2A', 'DUOXA2', 'HIF1A', 'GCH1', 'RAC2', 'NOS2', 'AKR1C1', 'ARG2', 'PPARA', 'GNAI3', 'SESN2', 'TGFB1', 'RAC1', 'DUOX2', 'GRB2', 'ARF4', 'NFE2L2', 'AKR1C3', 'PTK2B', 'ZC3H12A', 'SH3PXD2B', 'TNF', 'TIGAR', 'SLC25A33', 'BIRC2', 'MAPK14', 'RAB27A', 'TP53', 'PDK3', 'RNF41', 'BNIP3', 'GRIN1', 'PLA2R1', 'MT3', 'PMAIP1', 'RIPK1']\n",
      "['DEFB4A', 'PI3', 'S100A9', 'CXCL8', 'PGLYRP4', 'CXCL6', 'CXCL3', 'CXCL5', 'PGLYRP3', 'S100A12', 'H2BC21', 'RARRES2', 'NOD2', 'S100A7', 'CXCL2', 'CXCL1', 'DMBT1', 'LTF', 'H2BC6', 'SPRR2A', 'SFTPD', 'PGC', 'CXCL10', 'H2BC8', 'FGB']\n",
      "['DEFB4A', 'S100A9', 'CXCL8', 'PGLYRP4', 'CXCL6', 'CXCL3', 'CXCL5', 'PGLYRP3', 'S100A12', 'H2BC21', 'NOD2', 'S100A7', 'CXCL2', 'CXCL1']\n",
      "['FBF1', 'DNAAF6', 'ODAD1', 'HYDIN', 'CEP89', 'TCTN1', 'SEPTIN6', 'DYNLT2B', 'HTT', 'DCDC2', 'DNAI2', 'SPATA6', 'ENTR1', 'CFAP70', 'HSPB11', 'GSN', 'CCDC96', 'DNAI3', 'RP1', 'BBS4', 'TTC26', 'IFT88', 'IFT81', 'ARMC2', 'MACIR', 'CNTROB', 'PLK4', 'CFAP20', 'CFAP58', 'C2CD3', 'DRC1', 'CEP120', 'TMEM107', 'HDAC6', 'KIF27', 'SCLT1', 'DNAI4', 'RABL2B', 'ZMYND10', 'IFT22', 'WDR19', 'CFAP53', 'FOXJ1', 'LRRC49', 'CILK1', 'ARL13B', 'SPAG6', 'SPAG1', 'MPHOSPH9', 'IQCG', 'PIBF1', 'ODF2L', 'IQUB', 'FSIP2', 'IFT74', 'CFAP74', 'TMEM231', 'CFAP410', 'DNM2', 'TMEM67', 'CEP126', 'UNC119B', 'MAK', 'IFT27', 'KIAA0753', 'CFAP100', 'CCDC13', 'TBC1D7', 'DNAAF4', 'CFAP157', 'CCDC40', 'TMEM80', 'CDK10', 'FAM161A', 'RABEP2', 'HAP1', 'BBS10', 'ARL3', 'WDR90', 'GAS8', 'AHI1', 'CEP135', 'TTC21B', 'SAXO1', 'CCDC65', 'TEKT3', 'CFAP161', 'RSPH4A', 'TXNDC15', 'SSX2IP', 'RFX3', 'NUDCD3', 'CBY1', 'TBC1D32', 'BBIP1', 'BBS2', 'CEP162', 'RFX4', 'CEP290', 'NEK1', 'DNAAF3', 'DNAH1', 'MEIG1', 'FUZ', 'CIBAR1', 'ATXN10', 'MCIDAS', 'CFAP44', 'IFT172', 'B9D2', 'TMEM237', 'TOGARAM1', 'NPHP3', 'STK36', 'NEURL1', 'BBS9', 'CDKL1', 'PCNT', 'MKS1', 'TEKT4', 'RAB17', 'DYNC2I1', 'DYNC2I2', 'CEP41', 'TCTN3', 'B9D1', 'TEKT1', 'ODAD2', 'CFAP65', 'CEP250', 'KIF24', 'FLNA', 'SDCCAG8', 'VDAC3', 'TCTN2', 'CCDC88A', 'CROCC', 'CLUAP1', 'ODAD4', 'CCNO', 'CEP131', 'CFAP206', 'TMEM17', 'TTC30B', 'CSNK1D', 'DRC7', 'KIAA0586', 'TTC12', 'CPLANE1', 'SYNE2', 'DZIP1L', 'ABLIM1', 'CFAP73', 'RFX2', 'LIMK2', 'UBXN10', 'ODAD3', 'WDPCP', 'CELSR2', 'EHD3']\n",
      "['FBF1', 'DNAAF6', 'ODAD1', 'CATIP', 'HYDIN', 'CEP89', 'TCTN1', 'SEPTIN6', 'DYNLT2B', 'HTT', 'DCDC2', 'DNAI2', 'SPATA6', 'ENTR1', 'CFAP70', 'HSPB11', 'GSN', 'CCDC96', 'DNAI3', 'RP1', 'BBS4', 'TTC26', 'IFT88', 'IFT81', 'ARMC2', 'MACIR', 'CNTROB', 'PLK4', 'CFAP20', 'CFAP58', 'C2CD3', 'DRC1', 'CEP120', 'TMEM107', 'HDAC6', 'KIF27', 'SCLT1', 'DNAI4', 'RABL2B', 'ZMYND10', 'IFT22', 'WDR19', 'CFAP53', 'SLC9A3R1', 'FOXJ1', 'LRRC49', 'CILK1', 'ARL13B', 'CFAP61', 'SPAG6', 'SSNA1', 'SPAG1', 'MPHOSPH9', 'IQCG', 'PIBF1', 'ODF2L', 'IQUB', 'FSIP2', 'IFT74', 'CFAP74', 'TMEM231', 'CFAP410', 'DNM2', 'TMEM67', 'CEP126', 'NEDD9', 'UNC119B', 'MAK', 'IFT27', 'KIAA0753', 'CFAP100', 'CCDC13', 'LCA5', 'TBC1D7', 'DNAAF4', 'ROPN1', 'CFAP157', 'CCDC40', 'TMEM80', 'CDK10', 'FAM161A', 'RABEP2', 'HAP1', 'BBS10', 'ARL3', 'WDR90', 'GAS8', 'AHI1', 'CEP135', 'TTC21B', 'SAXO1', 'CCDC65', 'TEKT3', 'CFAP161', 'RSPH4A', 'TXNDC15', 'SSX2IP', 'RFX3', 'NUDCD3', 'CBY1', 'TBC1D32', 'BBIP1', 'BBS2', 'LCA5L', 'CEP162', 'RFX4', 'CEP290', 'NEK1', 'DNAAF3', 'DNAH1', 'MEIG1', 'FUZ', 'CIBAR1', 'ATXN10', 'MCIDAS', 'CFAP44', 'IFT172', 'B9D2', 'TMEM237', 'TOGARAM1', 'NPHP3', 'STK36', 'NEURL1', 'ENO4', 'BBS9', 'CDKL1', 'PCNT', 'MKS1', 'TEKT4', 'RAB17', 'TTC21A', 'DYNC2I1', 'DYNC2I2', 'CEP41', 'TCTN3', 'B9D1', 'TEKT1', 'ODAD2', 'CFAP65', 'CEP250', 'KIF24', 'FLNA', 'SDCCAG8', 'VDAC3', 'TCTN2', 'CCDC88A', 'CROCC', 'CEP78', 'CLUAP1', 'ODAD4', 'CCNO', 'CEP131', 'PKD2', 'CFAP206', 'TTC30A', 'TMEM17', 'TTC30B', 'CSNK1D', 'DRC7', 'KIAA0586', 'TTC12', 'CPLANE1', 'SYNE2', 'DZIP1L', 'ABLIM1', 'CFAP73', 'RFX2', 'LIMK2', 'UBXN10', 'ODAD3', 'WDPCP', 'CELSR2', 'EHD3']\n",
      "['TSSK4', 'SPAG17', 'KATNIP', 'DNAAF6', 'ODAD1', 'HYDIN', 'DNAH9', 'DNAI2', 'CFAP70', 'SLC9B1', 'DNAI3', 'LZTFL1', 'BBS4', 'IFT81', 'ARMC2', 'CFAP20', 'CFAP58', 'DRC1', 'KIF27', 'DNAI4', 'ZMYND10', 'CFAP53', 'SLC9A3R1', 'CFAP61', 'SPAG6', 'IQCG', 'FSIP2', 'CFAP100', 'DNAAF4', 'ROPN1', 'CFAP157', 'CCDC40', 'GAS8', 'NPHP4', 'CCDC65', 'TEKT3', 'RSPH4A', 'RFX3', 'TTLL6', 'BBS2', 'CCR6', 'DNAH1', 'MEIG1', 'NEK10', 'CFAP44', 'DNAH11', 'NPHP3', 'STK36', 'NEURL1', 'ENO4', 'TEKT4', 'CATSPER3', 'TTC21A', 'GAS2L2', 'TEKT1', 'ODAD2', 'EPPIN', 'CFAP65', 'ENKUR', 'CFAP45', 'ODAD4', 'TTLL9', 'CATSPERD', 'CEP131', 'CFAP206', 'DRC7', 'TTC12', 'TCTE1', 'CFAP73', 'ODAD3', 'CELSR2']\n"
     ]
    }
   ],
   "source": [
    "for i in range(len(geneset_of_interest_name)):\n",
    "    gene_set = bioprod_gsea[bioprod_gsea[\"Description\"] == geneset_of_interest_name[i]][\"core_enrichment\"]\n",
    "    gene_set_updated_list = [item.replace('/', ',') for item in gene_set.to_list()]\n",
    "    if len(gene_set_updated_list)>0:\n",
    "        gene_set_updated_list = gene_set_updated_list[0].split(',')\n",
    "        print(gene_set_updated_list)\n",
    "    else:\n",
    "        print(\"Empty gene set: \"+ str(geneset_of_interest_name[i]))\n"
   ]
  },
  {
   "cell_type": "code",
   "execution_count": 129,
   "id": "1bc5584e-984d-496c-aea8-abc100727556",
   "metadata": {},
   "outputs": [
    {
     "name": "stdout",
     "output_type": "stream",
     "text": [
      "Empty gene set: regulation of defence response\n"
     ]
    }
   ],
   "source": [
    "count_mat_subset_dict={}\n",
    "for i in range(len(geneset_of_interest_name)):\n",
    "    gene_set = bioprod_gsea[bioprod_gsea[\"Description\"] == geneset_of_interest_name[i]][\"core_enrichment\"]\n",
    "    gene_set_updated_list = [item.replace('/', ',') for item in gene_set.to_list()]\n",
    "    if len(gene_set_updated_list)>0:\n",
    "        gene_set_updated_list = gene_set_updated_list[0].split(',')\n",
    "        count_mat_subset = pd.DataFrame()\n",
    "        for gene in gene_set_updated_list:\n",
    "            if gene in list(count_mat[\"gene_name\"]):\n",
    "                count_mat_subset = pd.concat([count_mat_subset,count_mat[count_mat[\"gene_name\"]== gene]])\n",
    "                del count_mat_subset[\"gene_ensemlb\"]\n",
    "                del count_mat_subset['transcript']\n",
    "                del count_mat_subset['gene_id']\n",
    "                count_mat_subset_dict[geneset_of_interest_name[i]]=count_mat_subset\n",
    "    else:\n",
    "        print(\"Empty gene set: \"+ str(geneset_of_interest_name[i]))\n",
    "   \n",
    "            "
   ]
  },
  {
   "cell_type": "code",
   "execution_count": 157,
   "id": "3fac99e0-51c2-4e58-b7f6-326745ae1ac3",
   "metadata": {},
   "outputs": [
    {
     "data": {
      "text/html": [
       "<div>\n",
       "<style scoped>\n",
       "    .dataframe tbody tr th:only-of-type {\n",
       "        vertical-align: middle;\n",
       "    }\n",
       "\n",
       "    .dataframe tbody tr th {\n",
       "        vertical-align: top;\n",
       "    }\n",
       "\n",
       "    .dataframe thead th {\n",
       "        text-align: right;\n",
       "    }\n",
       "</style>\n",
       "<table border=\"1\" class=\"dataframe\">\n",
       "  <thead>\n",
       "    <tr style=\"text-align: right;\">\n",
       "      <th></th>\n",
       "      <th>gene_name</th>\n",
       "      <th>hAO_r1_ctrl</th>\n",
       "      <th>hAO_r1_inf</th>\n",
       "      <th>hAO_r2_ctrl</th>\n",
       "      <th>hAO_r2_inf</th>\n",
       "      <th>hAO_r3_ctrl</th>\n",
       "      <th>hAO_r3_inf</th>\n",
       "      <th>hAO_r4_ctrl</th>\n",
       "      <th>hAO_r4_inf</th>\n",
       "    </tr>\n",
       "  </thead>\n",
       "  <tbody>\n",
       "    <tr>\n",
       "      <th>4001</th>\n",
       "      <td>SOD2</td>\n",
       "      <td>7.541443</td>\n",
       "      <td>9.833153</td>\n",
       "      <td>8.039504</td>\n",
       "      <td>10.108487</td>\n",
       "      <td>7.694543</td>\n",
       "      <td>10.013012</td>\n",
       "      <td>7.668532</td>\n",
       "      <td>9.631477</td>\n",
       "    </tr>\n",
       "    <tr>\n",
       "      <th>6380</th>\n",
       "      <td>AKAP12</td>\n",
       "      <td>5.436937</td>\n",
       "      <td>6.946795</td>\n",
       "      <td>4.747114</td>\n",
       "      <td>6.408801</td>\n",
       "      <td>4.541001</td>\n",
       "      <td>6.579520</td>\n",
       "      <td>4.829239</td>\n",
       "      <td>6.410048</td>\n",
       "    </tr>\n",
       "    <tr>\n",
       "      <th>7969</th>\n",
       "      <td>CYP1A1</td>\n",
       "      <td>7.145175</td>\n",
       "      <td>8.826284</td>\n",
       "      <td>5.635661</td>\n",
       "      <td>8.829776</td>\n",
       "      <td>6.150972</td>\n",
       "      <td>8.585044</td>\n",
       "      <td>5.836614</td>\n",
       "      <td>8.115452</td>\n",
       "    </tr>\n",
       "    <tr>\n",
       "      <th>685</th>\n",
       "      <td>TNIP3</td>\n",
       "      <td>3.171267</td>\n",
       "      <td>5.275863</td>\n",
       "      <td>4.175268</td>\n",
       "      <td>5.808995</td>\n",
       "      <td>4.085050</td>\n",
       "      <td>6.020813</td>\n",
       "      <td>3.891125</td>\n",
       "      <td>5.899015</td>\n",
       "    </tr>\n",
       "    <tr>\n",
       "      <th>13119</th>\n",
       "      <td>DEFB4A</td>\n",
       "      <td>5.992566</td>\n",
       "      <td>7.392839</td>\n",
       "      <td>5.048574</td>\n",
       "      <td>6.827780</td>\n",
       "      <td>5.279793</td>\n",
       "      <td>6.718589</td>\n",
       "      <td>5.330398</td>\n",
       "      <td>7.179204</td>\n",
       "    </tr>\n",
       "  </tbody>\n",
       "</table>\n",
       "</div>"
      ],
      "text/plain": [
       "      gene_name  hAO_r1_ctrl  hAO_r1_inf  hAO_r2_ctrl  hAO_r2_inf  \\\n",
       "4001       SOD2     7.541443    9.833153     8.039504   10.108487   \n",
       "6380     AKAP12     5.436937    6.946795     4.747114    6.408801   \n",
       "7969     CYP1A1     7.145175    8.826284     5.635661    8.829776   \n",
       "685       TNIP3     3.171267    5.275863     4.175268    5.808995   \n",
       "13119    DEFB4A     5.992566    7.392839     5.048574    6.827780   \n",
       "\n",
       "       hAO_r3_ctrl  hAO_r3_inf  hAO_r4_ctrl  hAO_r4_inf  \n",
       "4001      7.694543   10.013012     7.668532    9.631477  \n",
       "6380      4.541001    6.579520     4.829239    6.410048  \n",
       "7969      6.150972    8.585044     5.836614    8.115452  \n",
       "685       4.085050    6.020813     3.891125    5.899015  \n",
       "13119     5.279793    6.718589     5.330398    7.179204  "
      ]
     },
     "execution_count": 157,
     "metadata": {},
     "output_type": "execute_result"
    }
   ],
   "source": [
    "count_mat_subset.head()"
   ]
  },
  {
   "cell_type": "code",
   "execution_count": 158,
   "id": "75ed893c-7f13-4296-aa24-59b6d25ad128",
   "metadata": {},
   "outputs": [],
   "source": [
    "path_out = \"/data/scratch/kvalem/projects/2023/pseudomonas_aeruginosa/tables/\"\n",
    "count_mat_subset.to_csv(path_out+\"count_mat_heatmap.csv\")"
   ]
  },
  {
   "cell_type": "markdown",
   "id": "59ff7547-09cb-4f5d-9287-42901d490df2",
   "metadata": {
    "tags": []
   },
   "source": [
    "#### GSEA MOLECULAR FUNCTION"
   ]
  },
  {
   "cell_type": "markdown",
   "id": "5987c742-3657-4374-88b2-4588884ca33d",
   "metadata": {},
   "source": [
    "#### GSEA KEGG"
   ]
  },
  {
   "cell_type": "markdown",
   "id": "b5af28b4-6bf7-47f6-8370-3908fe499a07",
   "metadata": {
    "tags": []
   },
   "source": [
    "#### GSEA REACTOME"
   ]
  },
  {
   "cell_type": "markdown",
   "id": "9ba7fbc6-394a-4f0d-976b-1b5dbd9e9185",
   "metadata": {
    "tags": []
   },
   "source": [
    "#### GSEA WIKIPATHWAY"
   ]
  }
 ],
 "metadata": {
  "kernelspec": {
   "display_name": "Python [conda env:.conda-2022-default-scanpy]",
   "language": "python",
   "name": "conda-env-.conda-2022-default-scanpy-py"
  },
  "language_info": {
   "codemirror_mode": {
    "name": "ipython",
    "version": 3
   },
   "file_extension": ".py",
   "mimetype": "text/x-python",
   "name": "python",
   "nbconvert_exporter": "python",
   "pygments_lexer": "ipython3",
   "version": "3.10.8"
  }
 },
 "nbformat": 4,
 "nbformat_minor": 5
}
